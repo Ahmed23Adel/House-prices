{
  "cells": [
    {
      "cell_type": "markdown",
      "metadata": {
        "id": "view-in-github",
        "colab_type": "text"
      },
      "source": [
        "<a href=\"https://colab.research.google.com/github/Ahmed23Adel/Ahmed23Adel/blob/main/DL_JTA_Lab06.ipynb\" target=\"_parent\"><img src=\"https://colab.research.google.com/assets/colab-badge.svg\" alt=\"Open In Colab\"/></a>"
      ]
    },
    {
      "cell_type": "markdown",
      "metadata": {
        "id": "SoVLcg_hkyvE"
      },
      "source": [
        "# Lab 05\n",
        "# Detecting Key points of Face Images\n",
        "\n",
        "<img src=\"https://d3i71xaburhd42.cloudfront.net/8a1ed5e23231e86216c9bdd62419c3b05f1e0b4d/3-Figure2-1.png\"\n",
        " width=\"400px\" align=\"right\">"
      ]
    },
    {
      "cell_type": "markdown",
      "metadata": {
        "id": "Z5XbjeRYlTEX"
      },
      "source": [
        "# 0.0 Lecture review.\n",
        "\n",
        "1. Inception module\n",
        "2. Classification vs Localization vs Detection\n",
        "3. Detection technique (Sliding window)\n",
        "4. Replace 5x5 by 2 3x3 "
      ]
    },
    {
      "cell_type": "markdown",
      "metadata": {
        "id": "ngw74xwS0p_6"
      },
      "source": [
        "### 0.1 Inception module.\n",
        "\n",
        "<font color='orange'>What if I want to increase the neural network performance?</font> \\\\\n",
        "\n",
        "1. Create deeper network(more length, and more units per  one layer); consequently it will be more capaple of extracting more features.\n",
        "2. Or we may try learn from various scales.\n",
        "\n",
        "<img src=\"https://images.squarespace-cdn.com/content/v1/5e48489da899cd09424943db/1610570570662-8BALYUJM7JQI4JV1X775/AustinKosier.54S.png\"\n",
        " width=\"200px\" align=\"right\">\n",
        "<font color='orange'>How can different scales be more powerful?</font> \\\\\n",
        "The human **visual cortex** identifies patterns at <font color='yellow'>**different scales**</font>, which <font color='yellow'>**combine**</font> to form a complete <font color='yellow'>**picture**</font> of what is being seen.\n",
        "\n",
        "\n",
        "\n",
        "\n",
        "<font color='orange'>Naive inception module</font> \\\\\n",
        "We may then try using <font color='yellow'>**different kernel sizes**</font> for single input and <font color='yellow'>**concatenate**</font> them later.\n",
        "\n",
        "<img src=\"https://miro.medium.com/v2/resize:fit:720/format:webp/1*27SNg1gTB0HOVzTCAhp_Eg.png\"\n",
        " width=\"500px\" align=\"center\">\n",
        "\n",
        " The biggest problem here is this single module it takes <font color='red'>120 M</font> mulplications\n",
        "\n",
        "<font color='orange'>inception module</font> \\\\\n",
        "They might be a different approach to limit that number of mulplications\n",
        "\n",
        "\n",
        "<img src=\"https://miro.medium.com/v2/resize:fit:720/format:webp/1*U04APgUo2xnLmyU2N_Bgig.png\"\n",
        " width=\"700px\" align=\"right\">\n",
        "\n",
        "The addition of 1x1 conv caused the number of multiplication to  <font color='red'>12 M</font> only\n",
        ", meaning more effecient by approximatly <font color='green'>10</font> times\n",
        "\n",
        "<br> <br> <br> <br> <br> <br> <br> \n",
        "<font color='orange'>How does 1x1 conv work?</font> \\\\\n",
        "From Dr. slides. \\\\\n",
        "\n",
        "It's capabale of compressing the channels of colored images at little cost, leaving a two-dimensional image to perform expensive 3x3 and 5x5 convolutions\n",
        "\n",
        "<img src=\"https://drive.google.com/uc?export=view&id=1PGobM3e5r3-_n2EgG_AXahLmP8pOX9zk\"\n",
        " width=\"500px\" align=\"right\">\n",
        " \n",
        "\n",
        "<br> <br> <br> <br> <br> <br> <br> \n",
        "Reference: [Deep Learning: Understanding The Inception Module\n",
        "](https://towardsdatascience.com/deep-learning-understand-the-inception-module-56146866e652)\n",
        "\n"
      ]
    },
    {
      "cell_type": "markdown",
      "metadata": {
        "id": "58F9Hura9Tb4"
      },
      "source": [
        "### 0.2 Classification vs Localization vs Detection\n",
        "\n",
        "<font color='orange'>Classification</font> \\\\\n",
        "<img src=\"https://drive.google.com/uc?export=view&id=1gTCp1gnCsOIuC3SlmBvzzpwP-XZJaOT1\"\n",
        " width=\"200px\" align=\"right\">\n",
        "Simply <font color='yellow'>**single**</font> input(single object in the image) --> <font color='yellow'>**single**</font> output \\\\\n",
        "It should be capable of saying that this image has a cat with probability of xx.yy%, but can't say where.\n",
        "\n",
        "\n",
        "\n",
        "\n",
        "<br> <br> <br> <br> <br> <br> <br>\n",
        "\n",
        " <font color='orange'>Detection</font> \\\\\n",
        " <img src=\"https://drive.google.com/uc?export=view&id=1L1LYG0b9lni4Fb2KGuKveH2hRhtviwvv\"\n",
        " width=\"200px\" align=\"right\">\n",
        "\n",
        " Single image(Containing <font color='yellow'>**multiple**</font> objects)--> outputs <font color='yellow'>**where**</font> are these objects and <font color='yellow'>**what they are**</font>.\n",
        "\n",
        "\n",
        " <font color='orange'>Localizatoin</font> \\\\\n",
        "Byt Localization we mean how put rounding boxes around the object.\n",
        "\n",
        " \n"
      ]
    },
    {
      "cell_type": "markdown",
      "metadata": {
        "id": "D8aeftT1AfVV"
      },
      "source": [
        "### 0.3 Detection technique (Sliding window)\n",
        "Slide a window over the whole image.\n",
        "\n",
        "Notice the <font color='yellow'>**scale**</font>  effect. It will not be able to detect face from small window. \\\\\n",
        "\n",
        " <img src=\"https://miro.medium.com/v2/resize:fit:500/1*xueLn_y8Owl31HoNVigVdQ.gif\"\n",
        " width=\"500px\" align=\"right\">\n",
        "\n",
        " To make less computations you may use <font color='yellow'>**stride**</font>, You don't have go pixel by pixel.\\\\\n",
        "\n",
        " [Image sliding window using python](https://lengyi.medium.com/image-sliding-window-using-python-a0e97d2700b4)"
      ]
    },
    {
      "cell_type": "code",
      "execution_count": null,
      "metadata": {
        "cellView": "form",
        "id": "HpRUY0YqJW_d"
      },
      "outputs": [],
      "source": [
        "# @title init sliding window\n",
        "!pip install ipywidgets\n",
        "from tensorflow.keras.applications.resnet50 import ResNet50\n",
        "from tensorflow.keras.preprocessing import image\n",
        "from tensorflow.keras.applications.resnet50 import preprocess_input, decode_predictions\n",
        "import numpy as np\n",
        "import cv2\n",
        "import matplotlib.pyplot as plt\n",
        "from IPython.display import IFrame\n",
        "import ipywidgets as widgets\n",
        "from pydrive.auth import GoogleAuth\n",
        "from pydrive.drive import GoogleDrive\n",
        "from google.colab import auth\n",
        "from oauth2client.client import GoogleCredentials\n",
        "from IPython.display import clear_output\n",
        "!wget -O slidingwindow.jpg \"https://drive.google.com/uc?export=view&id=1EKwZkOQTzuAp7zJzNnx1-Sg8bn6GXJ65\"\n",
        "clear_output()"
      ]
    },
    {
      "cell_type": "code",
      "execution_count": null,
      "metadata": {
        "cellView": "form",
        "colab": {
          "base_uri": "https://localhost:8080/",
          "height": 624,
          "referenced_widgets": [
            "47aac1ef66484eeba1f0615321deec9c",
            "dc1c7b0a8bb748fd8b08e1bebe892190",
            "707137e4c86f4147aefc623e66c7ffc4",
            "f4f02b8931ff41d58e9ef5feb6c0933c",
            "595c72d1989440fb8ccd2a4bc34cb1e7",
            "a4d8839afdd84a449c5c5489c78e5d34",
            "14aa2f2bf2ed45daa41b6c2a2fcb64f6",
            "f4282d4e3a1646599e213fae24866832",
            "8236b57c8be9479b947d3288e53fdbbe",
            "3c54a7ed035f4c0f8765a2ffcc2a48a8",
            "acb6779ce7e44d28bdee291e77e486d1",
            "31e26e0d9f4e408896dea302090f3d31",
            "26149350c6af4b8baf29fed0fd528ae4",
            "f74a5420ca454695a17094873fb9ee38",
            "6e32f7dd544941a9858447d612cd674b"
          ]
        },
        "id": "tfxKW_3-0xci",
        "outputId": "5600c4d1-7e28-46c7-9667-f5de8e6b6c40"
      },
      "outputs": [
        {
          "data": {
            "application/vnd.jupyter.widget-view+json": {
              "model_id": "47aac1ef66484eeba1f0615321deec9c",
              "version_major": 2,
              "version_minor": 0
            },
            "text/plain": [
              "Button(description='left', style=ButtonStyle())"
            ]
          },
          "metadata": {},
          "output_type": "display_data"
        },
        {
          "data": {
            "application/vnd.jupyter.widget-view+json": {
              "model_id": "f4f02b8931ff41d58e9ef5feb6c0933c",
              "version_major": 2,
              "version_minor": 0
            },
            "text/plain": [
              "Button(description='right', style=ButtonStyle())"
            ]
          },
          "metadata": {},
          "output_type": "display_data"
        },
        {
          "data": {
            "application/vnd.jupyter.widget-view+json": {
              "model_id": "14aa2f2bf2ed45daa41b6c2a2fcb64f6",
              "version_major": 2,
              "version_minor": 0
            },
            "text/plain": [
              "Button(description='top', style=ButtonStyle())"
            ]
          },
          "metadata": {},
          "output_type": "display_data"
        },
        {
          "data": {
            "application/vnd.jupyter.widget-view+json": {
              "model_id": "3c54a7ed035f4c0f8765a2ffcc2a48a8",
              "version_major": 2,
              "version_minor": 0
            },
            "text/plain": [
              "Button(description='bottom', style=ButtonStyle())"
            ]
          },
          "metadata": {},
          "output_type": "display_data"
        },
        {
          "data": {
            "application/vnd.jupyter.widget-view+json": {
              "model_id": "26149350c6af4b8baf29fed0fd528ae4",
              "version_major": 2,
              "version_minor": 0
            },
            "text/plain": [
              "Button(description='Recompute', style=ButtonStyle())"
            ]
          },
          "metadata": {},
          "output_type": "display_data"
        },
        {
          "name": "stdout",
          "output_type": "stream",
          "text": [
            "img (1416, 1416, 3)\n",
            "Downloading data from https://storage.googleapis.com/tensorflow/keras-applications/resnet/resnet50_weights_tf_dim_ordering_tf_kernels.h5\n",
            "102967424/102967424 [==============================] - 5s 0us/step\n",
            "1/1 [==============================] - 12s 12s/step\n",
            "Downloading data from https://storage.googleapis.com/download.tensorflow.org/data/imagenet_class_index.json\n",
            "35363/35363 [==============================] - 0s 0us/step\n"
          ]
        },
        {
          "data": {
            "application/vnd.google.colaboratory.intrinsic+json": {
              "type": "string"
            },
            "text/plain": [
              "'Predicted:'"
            ]
          },
          "metadata": {},
          "output_type": "display_data"
        },
        {
          "data": {
            "text/plain": [
              "[('n01739381', 'vine_snake', 0.038501617),\n",
              " ('n09229709', 'bubble', 0.021122681),\n",
              " ('n02281787', 'lycaenid', 0.021046164)]"
            ]
          },
          "metadata": {},
          "output_type": "display_data"
        },
        {
          "data": {
            "image/png": "[encoded data removed]",
            "text/plain": [
              "<Figure size 432x288 with 1 Axes>"
            ]
          },
          "metadata": {},
          "output_type": "display_data"
        }
      ],
      "source": [
        "# @title Sliding window example\n",
        "\n",
        "box = [[0, 0], [50, 50] ] # top left, bottom right\n",
        "_top_left_x = 0 #@param {type:'string'}\n",
        "_top_left_y = \"0\" #@param {type:'string'}\n",
        "_stride = \"50\" #@param {type:'string'}\n",
        "_width = \"100\" #@param {type:'string'}\n",
        "_height = \"100\" #@param {type:'string'}\n",
        "width = int(_width)\n",
        "height = int(_height)\n",
        "stride = int(_stride)\n",
        "\n",
        "img_orig = cv2.imread(\"/content/slidingwindow.jpg\")\n",
        "orig_height, orig_width,_ = img_orig.shape\n",
        "\n",
        "def redraw_img():\n",
        "  clear_output(wait=True)\n",
        "  \n",
        "  img_show = cv2.resize(img_orig, (224, 224))\n",
        "  \n",
        "  cv2.rectangle(img_show, (box[0][0], box[0][1]), (box[0][0] + width, box[0][1]+ height), (0, 0, 255), 3)\n",
        "  plt.imshow(cv2.cvtColor(img_show, cv2.COLOR_BGR2RGB)), plt.title(\"Original image\")\n",
        "  show_buttons()\n",
        "  classify_img(img_orig[int(orig_width*box[0][0]/244):int(orig_height*(box[0][0] + width)/244), int(orig_width*box[0][1]/244):int(orig_height*(box[0][1] + width)/244) ])\n",
        "\n",
        "widgets.Button(\n",
        "    description='left',\n",
        "    disabled=True,\n",
        "    button_style='', # 'success', 'info', 'warning', 'danger' or ''\n",
        "    tooltip='Click me',\n",
        "    icon='check',\n",
        ")\n",
        "\n",
        "\n",
        "def left(b):\n",
        "    box[0] = [max(0,int(box[0][0]-stride)), int(box[0][1])]\n",
        "    box[1] = [max(0,int(box[1][0]-stride)), int(box[1][1])]\n",
        "    redraw_img()\n",
        "\n",
        "def right(b):\n",
        "    box[0] = [max(0,int(box[0][0]+stride)), int(box[0][1])]\n",
        "    box[1] = [max(0,int(box[1][0]+stride)), int(box[1][1])]\n",
        "    redraw_img()\n",
        "\n",
        "def top(b):\n",
        "    box[0] = [max(0,int(box[0][0])), int(box[0][1] - stride)]\n",
        "    box[1] = [max(0,int(box[1][0])), int(box[1][1] - stride)]\n",
        "    redraw_img()\n",
        "\n",
        "def bottom(b):\n",
        "    box[0] = [max(0,int(box[0][0])), int(box[0][1] + stride)]\n",
        "    box[1] = [max(0,int(box[1][0])), int(box[1][1] + stride)]\n",
        "    print(box)\n",
        "    redraw_img()\n",
        "\n",
        "def recomb(b):\n",
        "  redraw_img()\n",
        "def show_buttons():\n",
        "  left_button = widgets.Button(description=\"left\")\n",
        "  left_button.on_click(left)\n",
        "  display(left_button)\n",
        "\n",
        "  right_button = widgets.Button(description=\"right\")\n",
        "  right_button.on_click(right)\n",
        "  display(right_button)\n",
        "\n",
        "  top_button = widgets.Button(description=\"top\")\n",
        "  top_button.on_click(top)\n",
        "  display(top_button)\n",
        "\n",
        "  bottom_button = widgets.Button(description=\"bottom\")\n",
        "  bottom_button.on_click(bottom)\n",
        "  display(bottom_button)\n",
        "\n",
        "  comp_button = widgets.Button(description=\"Recompute\")\n",
        "  comp_button.on_click(recomb)\n",
        "  display(comp_button)\n",
        "\n",
        "def classify_img(img):\n",
        "  print(\"img\", img.shape)\n",
        "  model = ResNet50(weights='imagenet')\n",
        "  img = cv2.resize(img, (224, 224))\n",
        "  x = image.img_to_array(img)\n",
        "  x = np.expand_dims(x, axis=0)\n",
        "  x = preprocess_input(x)\n",
        "  preds = model.predict(x)\n",
        "  display('Predicted:', decode_predictions(preds, top=3)[0])\n",
        "redraw_img()\n",
        "# # Classify the entire image\n",
        "# model = ResNet50(weights='imagenet')\n",
        "# img_path = '/content/slidingwindow.jpg'\n",
        "# img = image.load_img(img_path, target_size=(224, 224))\n",
        "# x = image.img_to_array(img)\n",
        "# x = np.expand_dims(x, axis=0)\n",
        "# x = preprocess_input(x)\n",
        "# preds = model.predict(x)\n",
        "# display('Predicted:', decode_predictions(preds, top=3)[0])\n"
      ]
    },
    {
      "cell_type": "markdown",
      "metadata": {
        "id": "VKYcxV-izT7Y"
      },
      "source": [
        "# 2 Detection of facial keypoints \n",
        "\n",
        "Our goal in this lab is to predict keypoints in the face\n",
        "\n",
        " <img src=\"https://drive.google.com/uc?export=view&id=1g1VKlYaGo3-RR5Kag5AMjHfJbTyf7kG7\"\n",
        " width=\"700px\" align=\"right\">\n",
        "</br> </br> </br> </br>\n",
        "Don't fill your head of questions like \"is it regression problem or classficatoin problem?\" Neural network is a universal approximator for any funtion, according to <font color='yellow'> Universal approximation theorm </font>. It can approximate any imaginable function (function that take an image and return facial key points in it for example.) \\\\\n",
        "\n",
        "But we actually model it as <font color='yellow'> **regression** </font> problem\n",
        "\n",
        "<font color='orange'>Regression approach</font> \\\\\n",
        "\n",
        " <img src=\"https://drive.google.com/uc?export=view&id=1czcSLelvlFfDpwLkCzFjUfoqb8rc9sw5\"\n",
        " width=\"200px\" align=\"right\" style=\"margin-right = 100px\">\n",
        "\n",
        "  <img src=\"https://drive.google.com/uc?export=view&id=1ktvROQRlU6o8YY1jo3rdp-FZx9BvGS56\"\n",
        " width=\"200px\" align=\"right\" style=\"margin-right = 100px\">\n",
        "  <img src=\"https://drive.google.com/uc?export=view&id=1BxMQflDklpUFy34dt_p7w9I49qR9x_J-\"\n",
        " width=\"230px\" align=\"right\" style=\"margin-right = 150px\">\n",
        "</br> </br> </br> </br> </br> </br> </br> </br>\n",
        "\n",
        "\n",
        " <font color='orange'>Loss function</font> \\\\\n",
        "Consider true label and predicted one: \\\\\n",
        "  <img src=\"https://drive.google.com/uc?export=view&id=1S13zBFyTooessAFRqCLRHot2Ir2D0Hje\"\n",
        " width=\"400px\" align=\"right\" style=\"margin-right = 150px\">\n",
        "\n",
        " please note the following:\n",
        "1. Pc: probability of the image contains a face or not\n",
        "2. L1x, L1Y: is the cartesian cordinates for landmark number 1.\\\\\n",
        "We may use the following for the loss function: \\\\\n",
        "</br> </br>\n",
        "$\n",
        "\\begin{equation}\n",
        " Loss = \\begin{cases}\n",
        "       \\sum_{i=0}^{N}(y_i - \\hat{y_i})^2 & \\text{if pc >=0.5; meaning ther is a face in the image }  \\\\\n",
        "       (y_0 - \\hat{y_0})^2 & \\text{if pc < 0.5; meaning ther is an no face, all others are don't care} \\\\\n",
        "     \\end{cases}\n",
        "\\end{equation}\n",
        "$\n",
        "\n",
        "\n",
        " <font color='orange'>Applications</font> \\\\\n",
        " 1. Face recognition\n",
        " 2. face analysis (You can predict is the person happy or not from facial landmarks)\n",
        "\n",
        "\n",
        "<font color='orange'>Challenges</font> \\\\\n",
        " 1. Illumination\n",
        " 2. Face orientation\n",
        " 3. You will probably deploy it in runtime software so it needs light model and can at least detect  one image per one second\n",
        " 4. please note that at runtime data wil have more noise in the background in clear face, so your model must as generalizable as possible, and different scenaries must be included in your dataset.\n",
        "\n",
        " Note that Facial feature points are different from keypoints for image registration, while keypoint detection is usually an unsupervised procedure."
      ]
    },
    {
      "cell_type": "markdown",
      "metadata": {
        "id": "6MY6zoPQ7Jf9"
      },
      "source": [
        "# 3.0 Literature review\n"
      ]
    },
    {
      "cell_type": "markdown",
      "metadata": {
        "id": "_QTT556Y76R7"
      },
      "source": [
        "### 3.1 Deep Convolutional Network Cascade for Facial Point Detection\n",
        "\n",
        "\n",
        "It aims to detect ﬁve facial points to be detected: left eye center (LE), right eye center (RE), nose tip (N), left mouth corner (LM), and right mouth corner (R- M).\n",
        "\n",
        "\n",
        "  <img src=\"https://drive.google.com/uc?export=view&id=1EbNdvBaC2RdGnLE2gH9BrbG_V2Gs6gNq\"\n",
        " width=\"800px\" align=\"right\" style=\"margin-right = 150px\">\n",
        "\n",
        "</br> </br> </br> </br> </br> </br> </br> </br> </br> </br>\n",
        "\n",
        "\n",
        "\n",
        "\n",
        "1.   It splitted the network into three seperate stages\n",
        "2.    At the ﬁrst level, they employed three deep convolutional networks, each predicting multiple facial points\n",
        "3. For each facial point, the predictions of multiple networks are averaged to reduce the variance\n",
        "4. Networks at the second and third levels take local patches centered at the predicted positions of facial points from previous levels as input and are only allowed to make small changes to previous predictions\n",
        "5. The predicted position of each point at the last two levels is given by the average of the two networks with different patch sizes\n",
        "6. While networks at the ﬁrst level aim to estimate keypoint positions robustly with few large errors, networks at the last two levels are designed to achieve high accuracy by fine tuning the landmark position\n",
        "7. So the input regions of networks at the ﬁrst level should be large in order to cover many possible predictions. But large input region is the major cause of inaccuracy because irrelevant areas in- cluded may degrade the ﬁnal output of the network\n",
        "8. The outputs of networks at the ﬁrst level provide a strong prior for the following detections, i.e., the true position of a facial point should lie within a small region around the prediction at the ﬁrst level\n",
        "\n",
        "\n",
        "\n",
        "\n",
        " <img src=\"https://drive.google.com/uc?export=view&id=1AO2Mhgg9CH7_zqs3HGEiCw6E-B1D5rSg\"\n",
        " width=\"200px\" align=\"right\" >\n",
        "\n",
        "  <img src=\"https://drive.google.com/uc?export=view&id=1LKMzmquXizyIdHOA8C4P2pHEtPMBuu-m\"\n",
        " width=\"200px\" align=\"right\" >\n",
        "  <img src=\"https://drive.google.com/uc?export=view&id=1bB1yvWCaqcq_GL-tb5hNi54hH8CJORFQ\"\n",
        " width=\"230px\" align=\"right\" >\n",
        "\n",
        "</br> </br> </br> </br> </br> </br> </br> </br> </br> </br>\n",
        "\n",
        "   <img src=\"https://drive.google.com/uc?export=view&id=1H4iZW-IufdYpXosf9G76VjPjGUxnzzQI\"\n",
        " width=\"400px\" align=\"right\" >\n"
      ]
    },
    {
      "cell_type": "markdown",
      "metadata": {
        "id": "uYtVCvA8BAwQ"
      },
      "source": [
        "### 3.2 Extensive Facial Landmark Localization with Coarse-to-ﬁne Convolutional Network Cascade\n",
        "\n",
        "Like the previous one but predict 51 landmarks\n",
        "\n",
        "   <img src=\"https://drive.google.com/uc?export=view&id=1EMP7TFOwCG-L2prWOiGGwk3rAAGxEGJd\"\n",
        " width=\"800px\" align=\"right\" >\n",
        "\n",
        "</br> </br> </br> </br> </br> </br> </br> </br> </br> </br> </br> </br> </br> </br>\n",
        "\n",
        "1.   In the ﬁrst level, two neural networks are trained to estimate the bounding boxes\n",
        "\n",
        "2.   Af- ter obtaining the bounding box of inner points, the 51 inner landmarks are initially estimated by the second level\n",
        "3. the third level is trained to reﬁne the landmarks of each facial component independently.\n",
        "\n",
        "Particularly, the contour is signiﬁcantly more difﬁcult than inner points for two reasons.\n",
        "\n",
        "\n",
        "1.   First, the facial image provides less local texture information for contour points compared to the inner landmarks\n",
        "2.   Additionally, the ground truth for these points is by nature more noisy\n",
        "\n",
        "\n",
        "Loss function:\n",
        "\n",
        "\n",
        "   <img src=\"https://drive.google.com/uc?export=view&id=1OxWhP0BqXMlIC9Txv5WyxHPxJgePRKaH\"\n",
        " width=\"400px\" align=\"right\" >"
      ]
    },
    {
      "cell_type": "markdown",
      "metadata": {
        "id": "QlPs2mcyDl-N"
      },
      "source": [
        "### 3.3 A Deep Residual convolutional neural network for facial keypoint detection with missing labels\n",
        "\n",
        "\n",
        "   <img src=\"https://drive.google.com/uc?export=view&id=15VgJwgu54opAbHrv9UB6yBwMMTWXFSDA\"\n",
        " width=\"200px\" align=\"right\" >\n",
        "\n",
        "\n",
        "1.   They used 32 kernels with a large kernel size of 11 × 11 on the ﬁrst convolu- tional layer and followed by a max pooling layer to both reduce the dimentionality and ﬁnd out the most discriminative features\n",
        "2.   The following four convolutional layers are in two ResNet blocks. They used the kernal size of 3 × 3 in order to achieve predicting lo- cal small regions\n",
        "3. Instead of using pooling layer between residual blocks, they used a strided convolu- tion at the last convolutional layer of each residual block to allow the network to learn its own spatial downsampling\n",
        "\n",
        "They stated the data augmentation is crucial for this problem.\\\\\n",
        "Error function is <font color=\"yellow\"> RMSE</font>\n",
        "\n",
        "\n"
      ]
    },
    {
      "cell_type": "markdown",
      "metadata": {
        "id": "Kcvl6NOFE5s2"
      },
      "source": [
        "### 3.4 Faster R-CNN and YOLO based Vehicle detection: A Survey\n",
        "\n",
        "It covers two famous architectures\n",
        "\n",
        "<font color='orange'> Region-based Convolutional Network (R-CNN) </font>\n",
        "   <img src=\"https://drive.google.com/uc?export=view&id=1Rn0fq-xQqa0WH3Q25N7wOitK5taLpgbp\"\n",
        " width=\"500px\" align=\"right\" >\n",
        "\n",
        "\n",
        "1.   R-CNN is one of the primary deep neural network which is designed to perform object detection\n",
        "2.   R-CNN uses object proposals generated by selective search to train CNN for performing object detection and generating 2000 candidate boxes\n",
        "3. Each candidate box is then warped into fixed size and given as input to the CNN which in turn acts as a feature extractor and produces 4096 dimensional feature as a output\n",
        "4. This set of features is fed to the SVM classifier to perform classification\n",
        "\n",
        "But:\n",
        "\n",
        "\n",
        "1.   Huge time complexity, which makes R-CNN not suitable for real life applications.\n",
        "\n",
        "2.   It caches the extracted features from the pre-trained CNN on the disk to later train the SVMs. This requires hundreds of gigabytes of storage.\n",
        "\n",
        "\n",
        "\n",
        "\n",
        "You may want to search for <font color=\"yellow\"> Fast R-CNN</font>\n",
        "\n"
      ]
    },
    {
      "cell_type": "markdown",
      "metadata": {
        "id": "2Ra3YHVjG32N"
      },
      "source": [
        "### 3.5 Facial Key Points Detection using Deep Convolutional Neural Network - NaimishNet – reread please\n",
        "\n",
        "  <img src=\"https://drive.google.com/uc?export=view&id=1iIYQ23fi2jYW6Z5rjwV4Z7h--pjouHTG\"\n",
        " width=\"200px\" align=\"right\" >\n",
        "\n",
        " \n",
        "\n",
        "1.   They used Exponential Linear Unit (ELU) is very similar to Rectified Linear Unit (ReLU) except for negative inputs\n",
        "2.   Dropout probability is increased from 0.1 to 0.6 from Dropout1 to Dropout6, with a step size of 0.1\n",
        "3. Used Adam optimizer\n",
        "4. Data Pre-processing: The image pixels are normalized to the range [0, 1] by dividing by 255.0, and the train targets are zero-centered to the range [−1, 1] by ﬁrst dividing by 48.0, since the images are 96 × 96, and then subtracting 48.0. \n",
        "\n",
        "\n",
        "\n",
        "\n"
      ]
    },
    {
      "cell_type": "markdown",
      "metadata": {
        "id": "GqJxw-CPHxhH"
      },
      "source": [
        "### 3.6 A Supervised Learning Methodology for Real-Time Disguised Face Recognition in the Wild\n",
        "\n",
        "  <img src=\"https://drive.google.com/uc?export=view&id=1TXCVzecm6t5MG6zTbPayScyEtk2RsIc8\"\n",
        " width=\"400px\" align=\"right\" >\n",
        "\n",
        "\n",
        "\n",
        "1.   They used SVM as classifier after feature extractor\n",
        "2.   It is a common understanding that SVMs are meant for real-time applications, SVM can be more robust and accurate than MLP, SVM can reduce overfitting and improve generalization by using regularization and margin optimization\n",
        "\n",
        "\n",
        "\n"
      ]
    },
    {
      "cell_type": "markdown",
      "metadata": {
        "id": "KVvlV4DdeE7G"
      },
      "source": [
        "# Imports\n"
      ]
    },
    {
      "cell_type": "code",
      "execution_count": null,
      "metadata": {
        "id": "cCDF3J87LA_I"
      },
      "outputs": [],
      "source": [
        "import json\n",
        "from keras.preprocessing.image import ImageDataGenerator\n",
        "import numpy as np\n",
        "import cv2\n",
        "import json\n",
        "from keras.utils import Sequence\n",
        "import os\n",
        "import pandas as pd\n",
        "import cv2\n",
        "import numpy as np\n",
        "from keras.models import model_from_json\n",
        "import matplotlib.pyplot as plt\n",
        "from keras.models import Sequential\n",
        "from keras.layers import BatchNormalization, Conv2D, Activation, MaxPooling2D,MaxPooling2D,AveragePooling2D, Dense, GlobalAveragePooling2D\n",
        "from keras import optimizers, callbacks\n",
        "from sklearn.model_selection import train_test_split\n",
        "from keras.layers import Dropout, Flatten, Concatenate\n",
        "from sklearn.pipeline import make_pipeline\n",
        "from sklearn.preprocessing import MinMaxScaler\n",
        "from keras import backend as K\n",
        "import tensorflow as tf\n",
        "from tensorflow.keras.optimizers import Adam\n",
        "from tensorflow.keras.losses import mean_squared_error\n",
        "from tensorflow.keras.metrics import MeanSquaredError, AUC\n",
        "from tensorflow.keras.callbacks import ModelCheckpoint\n",
        "from tensorflow.keras.callbacks import CallbackList\n",
        "from tensorflow.keras.utils import Progbar\n",
        "from tensorflow.keras.callbacks import EarlyStopping\n",
        "from tensorflow.keras import metrics \n",
        "from IPython.display import clear_output\n",
        "from keras.models import load_model \n",
        "import shutil\n",
        "from tensorflow.keras.utils import img_to_array\n",
        "clear_output()"
      ]
    },
    {
      "cell_type": "markdown",
      "metadata": {
        "id": "V7-uWdM1IqcR"
      },
      "source": [
        "#4.0 Explore kaggle dataset"
      ]
    },
    {
      "cell_type": "code",
      "execution_count": null,
      "metadata": {
        "id": "ny7tBs8PlXSz"
      },
      "outputs": [],
      "source": [
        "# @title Download dataset from kaggle\n",
        "! pip install -q kaggle\n",
        "from google.colab import files\n",
        "files.upload()\n",
        "!mkdir ~/.kaggle\n",
        "!cp kaggle.json ~/.kaggle/\n",
        "!chmod 600 ~/.kaggle/kaggle.json\n",
        "! kaggle datasets list\n",
        "!kaggle datasets download -d prashantarorat/facial-key-point-data\n",
        "! mkdir comp_data\n",
        "! unzip /content/facial-key-point-data.zip -d comp_data\n",
        "clear_output()"
      ]
    },
    {
      "cell_type": "markdown",
      "metadata": {
        "id": "6vOnIujheKf6"
      },
      "source": [
        "### 4.0 Explore"
      ]
    },
    {
      "cell_type": "code",
      "execution_count": null,
      "metadata": {
        "id": "BMNXqzx8I8zp"
      },
      "outputs": [],
      "source": [
        "key_points_file = open ('/content/comp_data/all_data.json', \"r\")\n",
        "key_points = json.loads(key_points_file.read())\n",
        "key_points_file.close()"
      ]
    },
    {
      "cell_type": "code",
      "execution_count": null,
      "metadata": {
        "colab": {
          "base_uri": "https://localhost:8080/",
          "height": 281
        },
        "id": "T5TI0pjbLd-f",
        "outputId": "399e5311-5e38-4802-b80b-bd973bf063e1"
      },
      "outputs": [
        {
          "data": {
            "image/png": "[encoded data removed]",
            "text/plain": [
              "<Figure size 432x288 with 1 Axes>"
            ]
          },
          "metadata": {},
          "output_type": "display_data"
        }
      ],
      "source": [
        "def show_face_lands(img_number: str):\n",
        "  img = cv2.imread(f\"/content/comp_data/images/{str(img_number).zfill(5)}.png\") ## Reading the image, Note that zfill fills zeros at left to match their image naems\n",
        "  facial_keypoints = key_points[str(img_number)]['face_landmarks'] # Find key points from json file\n",
        "  for key_point in facial_keypoints:\n",
        "    land = (int(key_point[0]), int(key_point[1])) # Converting the point to interger\n",
        "    cv2.circle(img, land , 2, (0, 0, 255), 2) # Draw each point\n",
        "    plt.imshow(cv2.cvtColor(img, cv2.COLOR_BGR2RGB)), plt.title(f\"Image number {img_number}\") # Plotting the image using matplot\n",
        "show_face_lands(1)\n"
      ]
    },
    {
      "cell_type": "code",
      "execution_count": null,
      "metadata": {
        "colab": {
          "base_uri": "https://localhost:8080/",
          "height": 269
        },
        "id": "BoYjCIjpyujA",
        "outputId": "c9a737bd-f7b5-44e0-9995-801dc19620a7"
      },
      "outputs": [
        {
          "data": {
            "image/png": "[encoded data removed]",
            "text/plain": [
              "<Figure size 432x288 with 1 Axes>"
            ]
          },
          "metadata": {},
          "output_type": "display_data"
        }
      ],
      "source": [
        "def show_face_lands_normalized(img, y_norm, img_width = 512, img_height = 512, save = False, filename = \"tst.png\",  show_img = True):\n",
        "  for idx in range(0,len(y_norm), 2): # For every two consecutive elements they are elementx, and element y\n",
        "    yx, yy = int(y_norm[idx] * img_width), int(y_norm[idx+1] * img_height)\n",
        "    cv2.circle(img, (yx, yy) , 2, (0, 0, 255), 1) # Draw each point\n",
        "  if save: \n",
        "    cv2.imwrite(filename, img)\n",
        "  if show_img:\n",
        "    plt.imshow(cv2.cvtColor(img, cv2.COLOR_BGR2RGB))# Plotting the image using matplot\n",
        "\n",
        "def get_landmarks_for_img_norm(img_name):\n",
        "    list_of_lands= key_points[str(img_name)]['face_landmarks']\n",
        "    comp_lands = [item for sublist in list_of_lands for item in sublist]\n",
        "    return [x / 512 for x in comp_lands]\n",
        "\n",
        "tst_img = cv2.imread(\"/content/comp_data/images/00001.png\")\n",
        "lands_norm = get_landmarks_for_img_norm(1)\n",
        "show_face_lands_normalized(tst_img, lands_norm, show_img = True)"
      ]
    },
    {
      "cell_type": "markdown",
      "metadata": {
        "id": "nDniXy5lWdKz"
      },
      "source": [
        "# 5.0 init data for all models"
      ]
    },
    {
      "cell_type": "code",
      "execution_count": null,
      "metadata": {
        "id": "3aWMl3JaeCH6"
      },
      "outputs": [],
      "source": [
        "class FacialLandmarkGenerator (Sequence):\n",
        "  def __init__ (self, image_dir, data_type=\"train\", batch_size=32, shuffle=True, image_list=None, img_width = 256, img_height = 256):\n",
        "    self.data_type = data_type\n",
        "    assert self.data_type == \"train\" or self.data_type == \"val\" or self.data_type == \"test\" \n",
        "    self.image_dir = image_dir # directory where images are stored\n",
        "    self.batch_size = batch_size # batch size\n",
        "    self.shuffle = shuffle # whether to shuffle data or not\n",
        "    self.image_list = None # list of image names or None\n",
        "    self.on_epoch_end () # load data samples\n",
        "    self.img_width, self.img_height = img_width, img_height\n",
        "    self.image_augmenter = ImageDataGenerator (\n",
        "                                        rotation_range=45,\n",
        "                                        width_shift_range=0.2,\n",
        "                                        height_shift_range=0.2,\n",
        "                                        shear_range=0.2,\n",
        "                                        zoom_range=0.2,\n",
        "                                        horizontal_flip=True,\n",
        "                                        fill_mode='constant',\n",
        "                                        cval=125\n",
        "                                    )\n",
        "\n",
        "  def get_landmarks_for_img_norm(self, img_name):\n",
        "    list_of_lands= key_points[str(img_name)]['face_landmarks']\n",
        "    comp_lands = [item for sublist in list_of_lands for item in sublist]\n",
        "    return [x / 512 for x in comp_lands]\n",
        "\n",
        "  def __len__ (self):\n",
        "    return int (np.ceil (len (self.image_list) / float (self.batch_size))) # number of batches per epoch\n",
        "\n",
        "  def __getitem__ (self, index):\n",
        "    batch_data = self.image_list [index * self.batch_size: (index + 1) * self.batch_size] # get one batch of data\n",
        "    X = [] # list to store images\n",
        "    y = [] # list to store landmarks\n",
        "    for sample_name in batch_data:\n",
        "      file_name = f\"/content/comp_data/images/{sample_name}\" # get file name from sample\n",
        "      # landmarks = get_landmarks_for_img(int(sample_name.split(\".\")[0]))\n",
        "      # landmarks = [x / 512 for x in landmarks]\n",
        "      landmarks = self.get_landmarks_for_img_norm(int(sample_name.split(\".\")[0]))\n",
        "      image = cv2.imread (file_name) / 255.0 # read image from file and normalize it by pixel range\n",
        "      image = cv2.resize(image, (self.img_width, self.img_height))\n",
        "      X.append (image) # append image to X list\n",
        "      y.append (landmarks) # append landmarks to y list\n",
        "    \n",
        "    X = np.array (X) # convert list to array\n",
        "    y = np.array (y) # convert list to array\n",
        "    augmented_generator = self.image_augmenter.flow(X, y)\n",
        "    return next(augmented_generator)\n",
        "\n",
        "  def on_epoch_end (self):  \n",
        "    \n",
        "    if self.image_list is None:\n",
        "      self.image_list = sorted(os.listdir(self.image_dir))\n",
        "      if self.data_type == \"train\":\n",
        "        self.image_list = self.image_list[:int(len(self.image_list) * 0.6)] # get all image names from directory\n",
        "      elif self.data_type == \"val\":\n",
        "        self.image_list = self.image_list[int(len(self.image_list) * 0.6):int(len(self.image_list) * 0.8)] # get all image names from directory\n",
        "      elif self.data_type == \"test\": \n",
        "        self.image_list = self.image_list[int(len(self.image_list) * 0.8):] # get all image names from directory\n",
        "    print(len(self.image_list))"
      ]
    },
    {
      "cell_type": "code",
      "execution_count": null,
      "metadata": {
        "colab": {
          "base_uri": "https://localhost:8080/"
        },
        "id": "7Y0wkcQiebJc",
        "outputId": "335b1da9-4163-4c7a-eb51-ffc74fe40e21"
      },
      "outputs": [
        {
          "name": "stdout",
          "output_type": "stream",
          "text": [
            "1000\n"
          ]
        }
      ],
      "source": [
        "t = FacialLandmarkGenerator(\"/content/comp_data/images\", \"val\")"
      ]
    },
    {
      "cell_type": "code",
      "execution_count": null,
      "metadata": {
        "id": "5bzWAthNfVXN"
      },
      "outputs": [],
      "source": [
        "x, y = next(iter(t))"
      ]
    },
    {
      "cell_type": "code",
      "execution_count": null,
      "metadata": {
        "colab": {
          "base_uri": "https://localhost:8080/"
        },
        "id": "gT1jf1Hgi50U",
        "outputId": "65c3bf20-acf7-49cf-9539-455cb9fb610e"
      },
      "outputs": [
        {
          "data": {
            "text/plain": [
              "((32, 256, 256, 3), (32, 136))"
            ]
          },
          "execution_count": 119,
          "metadata": {},
          "output_type": "execute_result"
        }
      ],
      "source": [
        "x1, y1 = np.array(x), np.array(y)\n",
        "x1.shape, y1.shape"
      ]
    },
    {
      "cell_type": "markdown",
      "metadata": {
        "id": "sEngCl4GLq5J"
      },
      "source": [
        "# 7.0 Model 1"
      ]
    },
    {
      "cell_type": "markdown",
      "metadata": {
        "id": "bs1O7hB_cCHo"
      },
      "source": [
        "### 7.0 Model builder"
      ]
    },
    {
      "cell_type": "code",
      "execution_count": null,
      "metadata": {
        "id": "BAE-BRBM7PPk"
      },
      "outputs": [],
      "source": [
        "section_number = 1"
      ]
    },
    {
      "cell_type": "code",
      "execution_count": null,
      "metadata": {
        "colab": {
          "base_uri": "https://localhost:8080/"
        },
        "id": "cACuDhsqLouj",
        "outputId": "212ac62b-2e80-4d71-9da1-e40b6ab4063b"
      },
      "outputs": [
        {
          "name": "stdout",
          "output_type": "stream",
          "text": [
            "Model: \"sequential_6\"\n",
            "_________________________________________________________________\n",
            " Layer (type)                Output Shape              Param #   \n",
            "=================================================================\n",
            " conv2d_36 (Conv2D)          (None, 256, 256, 128)     3584      \n",
            "                                                                 \n",
            " max_pooling2d_36 (MaxPoolin  (None, 128, 128, 128)    0         \n",
            " g2D)                                                            \n",
            "                                                                 \n",
            " dropout_36 (Dropout)        (None, 128, 128, 128)     0         \n",
            "                                                                 \n",
            " conv2d_37 (Conv2D)          (None, 126, 126, 256)     295168    \n",
            "                                                                 \n",
            " max_pooling2d_37 (MaxPoolin  (None, 63, 63, 256)      0         \n",
            " g2D)                                                            \n",
            "                                                                 \n",
            " dropout_37 (Dropout)        (None, 63, 63, 256)       0         \n",
            "                                                                 \n",
            " conv2d_38 (Conv2D)          (None, 61, 61, 512)       1180160   \n",
            "                                                                 \n",
            " max_pooling2d_38 (MaxPoolin  (None, 30, 30, 512)      0         \n",
            " g2D)                                                            \n",
            "                                                                 \n",
            " dropout_38 (Dropout)        (None, 30, 30, 512)       0         \n",
            "                                                                 \n",
            " conv2d_39 (Conv2D)          (None, 28, 28, 256)       1179904   \n",
            "                                                                 \n",
            " max_pooling2d_39 (MaxPoolin  (None, 14, 14, 256)      0         \n",
            " g2D)                                                            \n",
            "                                                                 \n",
            " dropout_39 (Dropout)        (None, 14, 14, 256)       0         \n",
            "                                                                 \n",
            " conv2d_40 (Conv2D)          (None, 12, 12, 128)       295040    \n",
            "                                                                 \n",
            " max_pooling2d_40 (MaxPoolin  (None, 6, 6, 128)        0         \n",
            " g2D)                                                            \n",
            "                                                                 \n",
            " dropout_40 (Dropout)        (None, 6, 6, 128)         0         \n",
            "                                                                 \n",
            " conv2d_41 (Conv2D)          (None, 4, 4, 64)          73792     \n",
            "                                                                 \n",
            " max_pooling2d_41 (MaxPoolin  (None, 2, 2, 64)         0         \n",
            " g2D)                                                            \n",
            "                                                                 \n",
            " dropout_41 (Dropout)        (None, 2, 2, 64)          0         \n",
            "                                                                 \n",
            " flatten_6 (Flatten)         (None, 256)               0         \n",
            "                                                                 \n",
            " dense_24 (Dense)            (None, 256)               65792     \n",
            "                                                                 \n",
            " dense_25 (Dense)            (None, 256)               65792     \n",
            "                                                                 \n",
            " dense_26 (Dense)            (None, 256)               65792     \n",
            "                                                                 \n",
            " dense_27 (Dense)            (None, 136)               34952     \n",
            "                                                                 \n",
            "=================================================================\n",
            "Total params: 3,259,976\n",
            "Trainable params: 3,259,976\n",
            "Non-trainable params: 0\n",
            "_________________________________________________________________\n"
          ]
        }
      ],
      "source": [
        "HEIGHT = 256\n",
        "WIDTH = 256\n",
        "def model_builder():\n",
        "  # Specify model architecture\n",
        "  model = Sequential()\n",
        "  # Block 1\n",
        "  model.add(Conv2D(128, (3, 3),\n",
        "                  activation='relu',\n",
        "                  kernel_initializer='he_uniform',\n",
        "                  padding='same',\n",
        "                  input_shape=(HEIGHT, WIDTH, 3)))\n",
        "  model.add(MaxPooling2D((2, 2)))\n",
        "  model.add(Dropout(0.1))\n",
        "  # Block 2\n",
        "  model.add(Conv2D(256,(3,3),activation='relu'))\n",
        "  model.add(MaxPooling2D(pool_size=(2,2)))\n",
        "  model.add(Dropout(0.2))\n",
        "  # Block 3\n",
        "  model.add(Conv2D(512,(3,3),activation='relu'))\n",
        "  model.add(MaxPooling2D(pool_size=(2,2)))\n",
        "  model.add(Dropout(0.3))\n",
        "  # Block 4\n",
        "  model.add(Conv2D(256,(3,3),activation='relu'))\n",
        "  model.add(MaxPooling2D(pool_size=(2,2)))\n",
        "  model.add(Dropout(0.4))\n",
        "  # Block 5\n",
        "  model.add(Conv2D(128,(3,3),activation='relu'))\n",
        "  model.add(MaxPooling2D(pool_size=(2,2)))\n",
        "  model.add(Dropout(0.3))\n",
        "  # Block 6\n",
        "  model.add(Conv2D(64,(3,3),activation='relu'))\n",
        "  model.add(MaxPooling2D(pool_size=(2,2)))\n",
        "  model.add(Dropout(0.2))\n",
        "  # FC part\n",
        "  model.add(Flatten())\n",
        "  model.add(Dense(256, activation='relu', kernel_initializer='he_uniform'))\n",
        "  model.add(Dense(256, activation='relu', kernel_initializer='he_uniform'))\n",
        "  model.add(Dense(256, activation='relu', kernel_initializer='he_uniform'))\n",
        "  model.add(Dense(136, activation='relu', kernel_initializer='he_uniform'))\n",
        "  # Print summary\n",
        "  model.summary()\n",
        "  return model\n",
        " \n",
        "model = model_builder()"
      ]
    },
    {
      "cell_type": "markdown",
      "metadata": {
        "id": "wLuH-UgQbzNM"
      },
      "source": [
        "### 7.1 Get model from google drive"
      ]
    },
    {
      "cell_type": "code",
      "execution_count": null,
      "metadata": {
        "colab": {
          "base_uri": "https://localhost:8080/"
        },
        "id": "Vg1IMqYlVrbz",
        "outputId": "8b4c4a49-985c-4b14-9108-4ead3b711f5e"
      },
      "outputs": [
        {
          "name": "stdout",
          "output_type": "stream",
          "text": [
            "Drive already mounted at /content/drive/; to attempt to forcibly remount, call drive.mount(\"/content/drive/\", force_remount=True).\n",
            "returning latest model on google drive\n"
          ]
        },
        {
          "name": "stderr",
          "output_type": "stream",
          "text": [
            "WARNING:tensorflow:No training configuration found in the save file, so the model was *not* compiled. Compile it manually.\n"
          ]
        },
        {
          "data": {
            "text/plain": [
              "<keras.engine.sequential.Sequential at 0x7fafa5468550>"
            ]
          },
          "execution_count": 121,
          "metadata": {},
          "output_type": "execute_result"
        }
      ],
      "source": [
        "from google.colab import drive\n",
        "drive.mount('/content/drive/')\n",
        "\n",
        "def get_model(model_numer = None, last_avilable_model = True):\n",
        "  all_models = os.listdir(\"/content/drive/MyDrive/DL_JTA/Lab05/training_models\")\n",
        "  all_models = sorted(all_models)\n",
        "  if len(all_models) == 0:\n",
        "    print(\"Found no models on drive, i will get you a new one to train\")\n",
        "    return model_builder()\n",
        "  if model_numer is None:\n",
        "      print(\"returning latest model on google drive\")\n",
        "      model = load_model (f'/content/drive/MyDrive/DL_JTA/Lab05/training_models/{all_models[-1]}')\n",
        "      return model\n",
        "  else:\n",
        "    assert f\"model1_epoch{model_numer}.h5\" in all_models\n",
        "    model = load_model (f'/content/drive/MyDrive/DL_JTA/Lab05/training_models/{model_numer}')\n",
        "    return model\n",
        "      \n",
        "get_model()"
      ]
    },
    {
      "cell_type": "markdown",
      "metadata": {
        "id": "kH4391dOb236"
      },
      "source": [
        "### 7.2 save model on google drive"
      ]
    },
    {
      "cell_type": "code",
      "execution_count": null,
      "metadata": {
        "id": "S-_e0nOwp_7B"
      },
      "outputs": [],
      "source": [
        "def save_img(epoch):\n",
        "  for img_num in range(1, 3):\n",
        "    img_name = f\"tst_imgs/tst{img_num}_{epoch}.png\"\n",
        "    shutil.copy(img_name ,f'/content/drive/MyDrive/DL_JTA/Lab05/training_imgs/') # The colored-first\n"
      ]
    },
    {
      "cell_type": "code",
      "execution_count": null,
      "metadata": {
        "id": "NHBzapF9X9RQ"
      },
      "outputs": [],
      "source": [
        "def number_counter():\n",
        "  num = 0\n",
        "  while True:\n",
        "    yield num\n",
        "    num +=1\n",
        "num_counter = number_counter()\n",
        "def save_mode(model, offset = 0):\n",
        "  cur_num = next(num_counter)\n",
        "  model.save(f\"model{section_number}_epoch{cur_num + offset}.h5\")\n",
        "  shutil.copy(f\"model{section_number}_epoch{cur_num + offset}.h5\" ,f'/content/drive/MyDrive/DL_JTA/Lab05/training_models/') # The colored-first\n"
      ]
    },
    {
      "cell_type": "code",
      "execution_count": null,
      "metadata": {
        "colab": {
          "base_uri": "https://localhost:8080/"
        },
        "id": "9Ak9t23laGju",
        "outputId": "64012fb5-f8cf-4e33-8782-b179f02d6fa4"
      },
      "outputs": [
        {
          "name": "stderr",
          "output_type": "stream",
          "text": [
            "WARNING:tensorflow:Compiled the loaded model, but the compiled metrics have yet to be built. `model.compile_metrics` will be empty until you train or evaluate the model.\n"
          ]
        }
      ],
      "source": [
        "save_mode(model)"
      ]
    },
    {
      "cell_type": "markdown",
      "metadata": {
        "id": "TOkSiWj7cFrN"
      },
      "source": [
        "### 7.4 optimizer"
      ]
    },
    {
      "cell_type": "code",
      "execution_count": null,
      "metadata": {
        "id": "MnFBj92_MLf2"
      },
      "outputs": [],
      "source": [
        "lr = 0.001 # You can change this value \n",
        "beta_1 = 0.9 # Default value \n",
        "beta_2 = 0.999 # Default value \n",
        "epsilon = 1e-07 # Default value \n",
        "# Create an instance of Adam optimizer\n",
        "optimizer = Adam(learning_rate=lr, beta_1=beta_1, beta_2=beta_2, epsilon=epsilon)"
      ]
    },
    {
      "cell_type": "markdown",
      "metadata": {
        "id": "OFzZ8ONVhqfi"
      },
      "source": [
        "### 7.5 For testing the model"
      ]
    },
    {
      "cell_type": "code",
      "execution_count": null,
      "metadata": {
        "colab": {
          "base_uri": "https://localhost:8080/"
        },
        "id": "u3Qf7at_nkjC",
        "outputId": "3b4c80f4-b3d2-468c-9132-6861477cd925"
      },
      "outputs": [
        {
          "name": "stdout",
          "output_type": "stream",
          "text": [
            "mkdir: cannot create directory ‘tst_imgs’: File exists\n",
            "returning latest model on google drive\n"
          ]
        },
        {
          "name": "stderr",
          "output_type": "stream",
          "text": [
            "WARNING:tensorflow:No training configuration found in the save file, so the model was *not* compiled. Compile it manually.\n"
          ]
        },
        {
          "name": "stdout",
          "output_type": "stream",
          "text": [
            "(1, 256, 256, 3)\n",
            "1/1 [==============================] - 0s 128ms/step\n",
            "(1, 256, 256, 3)\n",
            "1/1 [==============================] - 0s 22ms/step\n"
          ]
        }
      ],
      "source": [
        "!mkdir tst_imgs\n",
        "model = get_model()\n",
        "def _test_model(filename = None, img_num = '03000', img = None, show_img = False, save = True, save_name = None):\n",
        "  if img is None:\n",
        "    img =cv2.imread(filename)\n",
        "  img = cv2.resize(img, (256, 256))\n",
        "  # Convert it to a numpy array\n",
        "  img_array = img_to_array(img)\n",
        "\n",
        "  # Add a batch dimension\n",
        "  img_batch = np.expand_dims(img_array, axis=0)\n",
        "\n",
        "  # Pass it to the model\n",
        "  print(img_batch.shape)\n",
        "  lands_norm = model.predict(img_batch)\n",
        "\n",
        "  show_face_lands_normalized(img, lands_norm[0], show_img = show_img, save = save, filename = save_name, img_width = 256, img_height = 256)\n",
        "\n",
        "def test_model(epoch):\n",
        "  _test_model(img = cv2.imread(\"/content/comp_data/images/03000.png\"), show_img  = False, save_name = f\"tst_imgs/tst1_{epoch}.png\")\n",
        "  _test_model(img = cv2.imread(\"/content/comp_data/images/03001.png\"), show_img  = False, save_name = f\"tst_imgs/tst2_{epoch}.png\")\n",
        "test_model(0)"
      ]
    },
    {
      "cell_type": "markdown",
      "metadata": {
        "id": "ubroXjg5cuyz"
      },
      "source": [
        "### 7.6 Training\n"
      ]
    },
    {
      "cell_type": "markdown",
      "metadata": {
        "id": "w9ufcdKGbUZn"
      },
      "source": [
        "The loss function is a function that measures how well the model predicts the true values. It takes the true values and the predicted values as inputs and returns a scalar value that represents the discrepancy between them. The loss function is used to compute the gradients of the model’s weights and update them using the optimizer. The loss function can also be used as a metric to evaluate the model’s performance, but it is not necessarily the same as the metric.\n",
        "\n",
        "The tracker is an instance of a Keras metric class that tracks the state of a metric over time. It has methods to update its state with new values, reset its state, and retrieve its current result. The tracker can be used to monitor any metric that you are interested in, such as accuracy, precision, recall, etc. The tracker is not used to update the model’s weights or affect its training process.\n",
        "\n",
        "The metric is a value that reflects how well the model performs on a certain task or aspect. It can be calculated using a function or a class that takes the true values and the predicted values as inputs and returns a scalar value or a tensor of values. The metric can be used to evaluate the model’s performance on training data or validation data, and compare it with other models or baselines. The metric can also be used as a loss function if it is differentiable and suitable for optimization."
      ]
    },
    {
      "cell_type": "code",
      "execution_count": null,
      "metadata": {
        "colab": {
          "base_uri": "https://localhost:8080/"
        },
        "id": "aSNnsgCEdDHD",
        "outputId": "24b7e1a0-4139-4832-ce75-d849ae0f5c88"
      },
      "outputs": [
        {
          "name": "stdout",
          "output_type": "stream",
          "text": [
            "returning latest model on google drive\n"
          ]
        },
        {
          "name": "stderr",
          "output_type": "stream",
          "text": [
            "WARNING:tensorflow:No training configuration found in the save file, so the model was *not* compiled. Compile it manually.\n"
          ]
        }
      ],
      "source": [
        "model = get_model()"
      ]
    },
    {
      "cell_type": "code",
      "execution_count": null,
      "metadata": {
        "id": "GDK0kNfEMTte"
      },
      "outputs": [],
      "source": [
        "# mse_metric = MeanSquaredError(name=\"mse\") # You can change the name if you want \n",
        "# auc_metric = AUC(name=\"auc\") # You can change the name and other parameters if you want \n",
        "loss_fn = mean_squared_error # Your loss function\n",
        "train_loss_tracker = tf.keras.metrics.Mean() # To track training loss\n",
        "val_loss_tracker = tf.keras.metrics.Mean() # To track validation loss\n",
        "train_acc_metric = MeanSquaredError(name=\"mse\") # Your metric for training accuracy\n",
        "val_acc_metric = MeanSquaredError(name=\"mse\") # Your metric for validation accuracy"
      ]
    },
    {
      "cell_type": "code",
      "execution_count": null,
      "metadata": {
        "id": "7MAKjVUGNHFJ"
      },
      "outputs": [],
      "source": [
        "# Define your train_step and val_step functions\n",
        "@tf.function(experimental_relax_shapes=True)\n",
        "def train_step(x, y):\n",
        "  with tf.GradientTape() as tape:\n",
        "    logits = model(x, training=True) # Forward pass\n",
        "    loss_value = loss_fn(y, logits) # Compute loss\n",
        "  grads = tape.gradient(loss_value, model.trainable_weights) # Compute gradients\n",
        "  optimizer.apply_gradients(zip(grads, model.trainable_weights)) # Update weights\n",
        "  train_loss_tracker.update_state(loss_value) # Update training loss tracker\n",
        "  train_acc_metric.update_state(y, logits) # Update training accuracy metric\n",
        "  return {\"train_loss\": train_loss_tracker.result(), \"train_accuracy\": train_acc_metric.result()} # Return a dict of metrics\n",
        "\n",
        "@tf.function(experimental_relax_shapes=True)\n",
        "def val_step(x, y):\n",
        "  val_logits = model(x, training=False) # Forward pass without updating weights\n",
        "  val_loss = loss_fn(y, val_logits) # Compute validation loss\n",
        "  val_loss_tracker.update_state(val_loss) # Update validation loss tracker\n",
        "  val_acc_metric.update_state(y, val_logits) # Update validation accuracy metric \n",
        "  return {\"val_loss\": val_loss_tracker.result(), \"val_accuracy\": val_acc_metric.result()} # Return a dict of metrics\n"
      ]
    },
    {
      "cell_type": "code",
      "execution_count": null,
      "metadata": {
        "colab": {
          "base_uri": "https://localhost:8080/"
        },
        "id": "aXbZURhiN03i",
        "outputId": "2785a3d5-bf18-4976-8bc3-3e9bc77bb39d"
      },
      "outputs": [
        {
          "name": "stdout",
          "output_type": "stream",
          "text": [
            "\n",
            "Start of epoch 0\n",
            "3000\n",
            "93/93 [==============================] - 118s 1s/step - train_loss: 0.0826\n",
            "94/93 [==============================] - 119s 1s/step - train_loss: 0.0826\n",
            "(1, 256, 256, 3)\n",
            "1/1 [==============================] - 0s 113ms/step\n",
            "(1, 256, 256, 3)\n",
            "1/1 [==============================] - 0s 20ms/step\n"
          ]
        },
        {
          "name": "stderr",
          "output_type": "stream",
          "text": [
            "WARNING:tensorflow:Compiled the loaded model, but the compiled metrics have yet to be built. `model.compile_metrics` will be empty until you train or evaluate the model.\n"
          ]
        },
        {
          "name": "stdout",
          "output_type": "stream",
          "text": [
            "1000\n",
            "Validation loss: 2.6419\n",
            "\n",
            "Start of epoch 1\n",
            "3000\n",
            "93/93 [==============================] - 256s 1s/step - train_loss: 0.0826\n",
            "94/93 [==============================] - 258s 1s/step - train_loss: 0.0826\n",
            "(1, 256, 256, 3)\n",
            "1/1 [==============================] - 0s 21ms/step\n",
            "(1, 256, 256, 3)\n",
            "1/1 [==============================] - 0s 20ms/step\n",
            "1000\n",
            "Validation loss: 2.6418\n",
            "\n",
            "Start of epoch 2\n",
            "3000\n",
            "93/93 [==============================] - 393s 1s/step - train_loss: 0.0826\n",
            "94/93 [==============================] - 394s 1s/step - train_loss: 0.0826\n",
            "(1, 256, 256, 3)\n",
            "1/1 [==============================] - 0s 24ms/step\n",
            "(1, 256, 256, 3)\n",
            "1/1 [==============================] - 0s 23ms/step\n",
            "1000\n",
            "Validation loss: 2.6418\n",
            "\n",
            "Start of epoch 3\n",
            "3000\n",
            "93/93 [==============================] - 533s 1s/step - train_loss: 0.0826\n",
            "94/93 [==============================] - 534s 1s/step - train_loss: 0.0826\n",
            "(1, 256, 256, 3)\n",
            "1/1 [==============================] - 0s 27ms/step\n",
            "(1, 256, 256, 3)\n",
            "1/1 [==============================] - 0s 20ms/step\n",
            "1000\n",
            "Validation loss: 2.6418\n",
            "\n",
            "Start of epoch 4\n",
            "3000\n",
            "22/93 [======>.......................] - ETA: 1:24 - train_loss: 0.0826"
          ]
        }
      ],
      "source": [
        "# Initialize some variables for logging \n",
        "logs = {} \n",
        "epochs = 50 # Number of epochs you want to train for \n",
        "batch_size = 32 # Batch size for your data \n",
        "verbose = 1 # Display frequency (0: silent, 1: update after each batch, 2: update after each epoch)\n",
        "# Start the custom loop \n",
        "# callbacks.on_train_begin(logs=logs) # Call this at the beginning of training \n",
        "progbar = Progbar(target=int(int(len(os.listdir(\"/content/comp_data/images\")) * 0.6) / batch_size), verbose=verbose)\n",
        "early_stopping = EarlyStopping(monitor=\"val_loss\", patience=3)\n",
        "valid_dict = {}\n",
        "# Start the custom loop \n",
        "for epoch in range(epochs):\n",
        "  print(\"\\nStart of epoch %d\" % (epoch,))\n",
        "  \n",
        "\n",
        "  for step, (x_batch_train,y_batch_train) in enumerate(FacialLandmarkGenerator(\"/content/comp_data/images\", \"train\")): \n",
        "    \n",
        "    # Perform one step of gradient descent on a batch of training data \n",
        "    train_dict = train_step(x_batch_train,y_batch_train)\t\n",
        "    \n",
        "    # Update the progbar with the current step and metrics \n",
        "    progbar.update(step + 1, values=[(\"train_loss\", train_dict[\"train_loss\"])])\n",
        "    \n",
        "    # if step % 30 == 0:\t# Print some information every 100 steps \n",
        "    #   print(\"Training loss (for one batch) at step %d: %.4f\" % (step,float(train_dict[\"train_loss\"])))\n",
        "    #   print(\"Training MSE (for one batch) at step %d: %.4f\" % (step,float(train_dict[\"train_loss\"])))\n",
        "  test_model(epoch)\n",
        "\n",
        "  if epoch %5 ==0:\n",
        "    save_mode(model, offset = 71)\n",
        "    save_img(epoch)\n",
        "\n",
        "\n",
        "  valid_dict[\"val_loss\"] = 0\n",
        "  for x_batch_val,y_batch_val in FacialLandmarkGenerator(\"/content/comp_data/images\", \"val\"):\n",
        "    valid_dict[\"val_loss\"] += val_step(x_batch_val,y_batch_val)[\"val_loss\"]\n",
        "    \n",
        "  print(\"Validation loss: %.4f\" % float(valid_dict[\"val_loss\"]))\n",
        "    \n",
        "    # Pass the validation metric to the early stopping callback\n",
        "  # early_stopping.on_epoch_end(epoch, {'val_loss': valid_dict[\"val_loss\"], 'best': valid_dict[\"val_loss\"]})\n",
        "    \n",
        "  # if early_stopping.stop_training:\t# Check if we should stop training \n",
        "  #   break\t# Break out of the epoch loop \n",
        "\n",
        "  train_loss_tracker.reset_states()\t# Reset the state of the tracker after each epoch \n",
        "  val_loss_tracker.reset_states()\t# Reset the state of the tracker after each epoch \n",
        "\n"
      ]
    },
    {
      "cell_type": "markdown",
      "metadata": {
        "id": "L5QAq8mq1l6C"
      },
      "source": [
        "# 8.0 Model 2\n",
        "\n",
        "Try transfer learning"
      ]
    },
    {
      "cell_type": "code",
      "execution_count": null,
      "metadata": {
        "id": "MuAqRb2n6LIh"
      },
      "outputs": [],
      "source": [
        "section_number = 2\n",
        "HEIGHT = 224\n",
        "WIDTH = 224"
      ]
    },
    {
      "cell_type": "code",
      "execution_count": null,
      "metadata": {
        "colab": {
          "base_uri": "https://localhost:8080/"
        },
        "id": "LMjpPko51oHN",
        "outputId": "37323716-f4f2-41aa-f6f4-0111a1370b01"
      },
      "outputs": [
        {
          "name": "stdout",
          "output_type": "stream",
          "text": [
            "Model: \"model_8\"\n",
            "__________________________________________________________________________________________________\n",
            " Layer (type)                   Output Shape         Param #     Connected to                     \n",
            "==================================================================================================\n",
            " input_9 (InputLayer)           [(None, 224, 224, 3  0           []                               \n",
            "                                )]                                                                \n",
            "                                                                                                  \n",
            " conv1_pad (ZeroPadding2D)      (None, 230, 230, 3)  0           ['input_9[0][0]']                \n",
            "                                                                                                  \n",
            " conv1_conv (Conv2D)            (None, 112, 112, 64  9472        ['conv1_pad[0][0]']              \n",
            "                                )                                                                 \n",
            "                                                                                                  \n",
            " conv1_bn (BatchNormalization)  (None, 112, 112, 64  256         ['conv1_conv[0][0]']             \n",
            "                                )                                                                 \n",
            "                                                                                                  \n",
            " conv1_relu (Activation)        (None, 112, 112, 64  0           ['conv1_bn[0][0]']               \n",
            "                                )                                                                 \n",
            "                                                                                                  \n",
            " pool1_pad (ZeroPadding2D)      (None, 114, 114, 64  0           ['conv1_relu[0][0]']             \n",
            "                                )                                                                 \n",
            "                                                                                                  \n",
            " pool1_pool (MaxPooling2D)      (None, 56, 56, 64)   0           ['pool1_pad[0][0]']              \n",
            "                                                                                                  \n",
            " conv2_block1_1_conv (Conv2D)   (None, 56, 56, 64)   4160        ['pool1_pool[0][0]']             \n",
            "                                                                                                  \n",
            " conv2_block1_1_bn (BatchNormal  (None, 56, 56, 64)  256         ['conv2_block1_1_conv[0][0]']    \n",
            " ization)                                                                                         \n",
            "                                                                                                  \n",
            " conv2_block1_1_relu (Activatio  (None, 56, 56, 64)  0           ['conv2_block1_1_bn[0][0]']      \n",
            " n)                                                                                               \n",
            "                                                                                                  \n",
            " conv2_block1_2_conv (Conv2D)   (None, 56, 56, 64)   36928       ['conv2_block1_1_relu[0][0]']    \n",
            "                                                                                                  \n",
            " conv2_block1_2_bn (BatchNormal  (None, 56, 56, 64)  256         ['conv2_block1_2_conv[0][0]']    \n",
            " ization)                                                                                         \n",
            "                                                                                                  \n",
            " conv2_block1_2_relu (Activatio  (None, 56, 56, 64)  0           ['conv2_block1_2_bn[0][0]']      \n",
            " n)                                                                                               \n",
            "                                                                                                  \n",
            " conv2_block1_0_conv (Conv2D)   (None, 56, 56, 256)  16640       ['pool1_pool[0][0]']             \n",
            "                                                                                                  \n",
            " conv2_block1_3_conv (Conv2D)   (None, 56, 56, 256)  16640       ['conv2_block1_2_relu[0][0]']    \n",
            "                                                                                                  \n",
            " conv2_block1_0_bn (BatchNormal  (None, 56, 56, 256)  1024       ['conv2_block1_0_conv[0][0]']    \n",
            " ization)                                                                                         \n",
            "                                                                                                  \n",
            " conv2_block1_3_bn (BatchNormal  (None, 56, 56, 256)  1024       ['conv2_block1_3_conv[0][0]']    \n",
            " ization)                                                                                         \n",
            "                                                                                                  \n",
            " conv2_block1_add (Add)         (None, 56, 56, 256)  0           ['conv2_block1_0_bn[0][0]',      \n",
            "                                                                  'conv2_block1_3_bn[0][0]']      \n",
            "                                                                                                  \n",
            " conv2_block1_out (Activation)  (None, 56, 56, 256)  0           ['conv2_block1_add[0][0]']       \n",
            "                                                                                                  \n",
            " conv2_block2_1_conv (Conv2D)   (None, 56, 56, 64)   16448       ['conv2_block1_out[0][0]']       \n",
            "                                                                                                  \n",
            " conv2_block2_1_bn (BatchNormal  (None, 56, 56, 64)  256         ['conv2_block2_1_conv[0][0]']    \n",
            " ization)                                                                                         \n",
            "                                                                                                  \n",
            " conv2_block2_1_relu (Activatio  (None, 56, 56, 64)  0           ['conv2_block2_1_bn[0][0]']      \n",
            " n)                                                                                               \n",
            "                                                                                                  \n",
            " conv2_block2_2_conv (Conv2D)   (None, 56, 56, 64)   36928       ['conv2_block2_1_relu[0][0]']    \n",
            "                                                                                                  \n",
            " conv2_block2_2_bn (BatchNormal  (None, 56, 56, 64)  256         ['conv2_block2_2_conv[0][0]']    \n",
            " ization)                                                                                         \n",
            "                                                                                                  \n",
            " conv2_block2_2_relu (Activatio  (None, 56, 56, 64)  0           ['conv2_block2_2_bn[0][0]']      \n",
            " n)                                                                                               \n",
            "                                                                                                  \n",
            " conv2_block2_3_conv (Conv2D)   (None, 56, 56, 256)  16640       ['conv2_block2_2_relu[0][0]']    \n",
            "                                                                                                  \n",
            " conv2_block2_3_bn (BatchNormal  (None, 56, 56, 256)  1024       ['conv2_block2_3_conv[0][0]']    \n",
            " ization)                                                                                         \n",
            "                                                                                                  \n",
            " conv2_block2_add (Add)         (None, 56, 56, 256)  0           ['conv2_block1_out[0][0]',       \n",
            "                                                                  'conv2_block2_3_bn[0][0]']      \n",
            "                                                                                                  \n",
            " conv2_block2_out (Activation)  (None, 56, 56, 256)  0           ['conv2_block2_add[0][0]']       \n",
            "                                                                                                  \n",
            " conv2_block3_1_conv (Conv2D)   (None, 56, 56, 64)   16448       ['conv2_block2_out[0][0]']       \n",
            "                                                                                                  \n",
            " conv2_block3_1_bn (BatchNormal  (None, 56, 56, 64)  256         ['conv2_block3_1_conv[0][0]']    \n",
            " ization)                                                                                         \n",
            "                                                                                                  \n",
            " conv2_block3_1_relu (Activatio  (None, 56, 56, 64)  0           ['conv2_block3_1_bn[0][0]']      \n",
            " n)                                                                                               \n",
            "                                                                                                  \n",
            " conv2_block3_2_conv (Conv2D)   (None, 56, 56, 64)   36928       ['conv2_block3_1_relu[0][0]']    \n",
            "                                                                                                  \n",
            " conv2_block3_2_bn (BatchNormal  (None, 56, 56, 64)  256         ['conv2_block3_2_conv[0][0]']    \n",
            " ization)                                                                                         \n",
            "                                                                                                  \n",
            " conv2_block3_2_relu (Activatio  (None, 56, 56, 64)  0           ['conv2_block3_2_bn[0][0]']      \n",
            " n)                                                                                               \n",
            "                                                                                                  \n",
            " conv2_block3_3_conv (Conv2D)   (None, 56, 56, 256)  16640       ['conv2_block3_2_relu[0][0]']    \n",
            "                                                                                                  \n",
            " conv2_block3_3_bn (BatchNormal  (None, 56, 56, 256)  1024       ['conv2_block3_3_conv[0][0]']    \n",
            " ization)                                                                                         \n",
            "                                                                                                  \n",
            " conv2_block3_add (Add)         (None, 56, 56, 256)  0           ['conv2_block2_out[0][0]',       \n",
            "                                                                  'conv2_block3_3_bn[0][0]']      \n",
            "                                                                                                  \n",
            " conv2_block3_out (Activation)  (None, 56, 56, 256)  0           ['conv2_block3_add[0][0]']       \n",
            "                                                                                                  \n",
            " conv3_block1_1_conv (Conv2D)   (None, 28, 28, 128)  32896       ['conv2_block3_out[0][0]']       \n",
            "                                                                                                  \n",
            " conv3_block1_1_bn (BatchNormal  (None, 28, 28, 128)  512        ['conv3_block1_1_conv[0][0]']    \n",
            " ization)                                                                                         \n",
            "                                                                                                  \n",
            " conv3_block1_1_relu (Activatio  (None, 28, 28, 128)  0          ['conv3_block1_1_bn[0][0]']      \n",
            " n)                                                                                               \n",
            "                                                                                                  \n",
            " conv3_block1_2_conv (Conv2D)   (None, 28, 28, 128)  147584      ['conv3_block1_1_relu[0][0]']    \n",
            "                                                                                                  \n",
            " conv3_block1_2_bn (BatchNormal  (None, 28, 28, 128)  512        ['conv3_block1_2_conv[0][0]']    \n",
            " ization)                                                                                         \n",
            "                                                                                                  \n",
            " conv3_block1_2_relu (Activatio  (None, 28, 28, 128)  0          ['conv3_block1_2_bn[0][0]']      \n",
            " n)                                                                                               \n",
            "                                                                                                  \n",
            " conv3_block1_0_conv (Conv2D)   (None, 28, 28, 512)  131584      ['conv2_block3_out[0][0]']       \n",
            "                                                                                                  \n",
            " conv3_block1_3_conv (Conv2D)   (None, 28, 28, 512)  66048       ['conv3_block1_2_relu[0][0]']    \n",
            "                                                                                                  \n",
            " conv3_block1_0_bn (BatchNormal  (None, 28, 28, 512)  2048       ['conv3_block1_0_conv[0][0]']    \n",
            " ization)                                                                                         \n",
            "                                                                                                  \n",
            " conv3_block1_3_bn (BatchNormal  (None, 28, 28, 512)  2048       ['conv3_block1_3_conv[0][0]']    \n",
            " ization)                                                                                         \n",
            "                                                                                                  \n",
            " conv3_block1_add (Add)         (None, 28, 28, 512)  0           ['conv3_block1_0_bn[0][0]',      \n",
            "                                                                  'conv3_block1_3_bn[0][0]']      \n",
            "                                                                                                  \n",
            " conv3_block1_out (Activation)  (None, 28, 28, 512)  0           ['conv3_block1_add[0][0]']       \n",
            "                                                                                                  \n",
            " conv3_block2_1_conv (Conv2D)   (None, 28, 28, 128)  65664       ['conv3_block1_out[0][0]']       \n",
            "                                                                                                  \n",
            " conv3_block2_1_bn (BatchNormal  (None, 28, 28, 128)  512        ['conv3_block2_1_conv[0][0]']    \n",
            " ization)                                                                                         \n",
            "                                                                                                  \n",
            " conv3_block2_1_relu (Activatio  (None, 28, 28, 128)  0          ['conv3_block2_1_bn[0][0]']      \n",
            " n)                                                                                               \n",
            "                                                                                                  \n",
            " conv3_block2_2_conv (Conv2D)   (None, 28, 28, 128)  147584      ['conv3_block2_1_relu[0][0]']    \n",
            "                                                                                                  \n",
            " conv3_block2_2_bn (BatchNormal  (None, 28, 28, 128)  512        ['conv3_block2_2_conv[0][0]']    \n",
            " ization)                                                                                         \n",
            "                                                                                                  \n",
            " conv3_block2_2_relu (Activatio  (None, 28, 28, 128)  0          ['conv3_block2_2_bn[0][0]']      \n",
            " n)                                                                                               \n",
            "                                                                                                  \n",
            " conv3_block2_3_conv (Conv2D)   (None, 28, 28, 512)  66048       ['conv3_block2_2_relu[0][0]']    \n",
            "                                                                                                  \n",
            " conv3_block2_3_bn (BatchNormal  (None, 28, 28, 512)  2048       ['conv3_block2_3_conv[0][0]']    \n",
            " ization)                                                                                         \n",
            "                                                                                                  \n",
            " conv3_block2_add (Add)         (None, 28, 28, 512)  0           ['conv3_block1_out[0][0]',       \n",
            "                                                                  'conv3_block2_3_bn[0][0]']      \n",
            "                                                                                                  \n",
            " conv3_block2_out (Activation)  (None, 28, 28, 512)  0           ['conv3_block2_add[0][0]']       \n",
            "                                                                                                  \n",
            " conv3_block3_1_conv (Conv2D)   (None, 28, 28, 128)  65664       ['conv3_block2_out[0][0]']       \n",
            "                                                                                                  \n",
            " conv3_block3_1_bn (BatchNormal  (None, 28, 28, 128)  512        ['conv3_block3_1_conv[0][0]']    \n",
            " ization)                                                                                         \n",
            "                                                                                                  \n",
            " conv3_block3_1_relu (Activatio  (None, 28, 28, 128)  0          ['conv3_block3_1_bn[0][0]']      \n",
            " n)                                                                                               \n",
            "                                                                                                  \n",
            " conv3_block3_2_conv (Conv2D)   (None, 28, 28, 128)  147584      ['conv3_block3_1_relu[0][0]']    \n",
            "                                                                                                  \n",
            " conv3_block3_2_bn (BatchNormal  (None, 28, 28, 128)  512        ['conv3_block3_2_conv[0][0]']    \n",
            " ization)                                                                                         \n",
            "                                                                                                  \n",
            " conv3_block3_2_relu (Activatio  (None, 28, 28, 128)  0          ['conv3_block3_2_bn[0][0]']      \n",
            " n)                                                                                               \n",
            "                                                                                                  \n",
            " conv3_block3_3_conv (Conv2D)   (None, 28, 28, 512)  66048       ['conv3_block3_2_relu[0][0]']    \n",
            "                                                                                                  \n",
            " conv3_block3_3_bn (BatchNormal  (None, 28, 28, 512)  2048       ['conv3_block3_3_conv[0][0]']    \n",
            " ization)                                                                                         \n",
            "                                                                                                  \n",
            " conv3_block3_add (Add)         (None, 28, 28, 512)  0           ['conv3_block2_out[0][0]',       \n",
            "                                                                  'conv3_block3_3_bn[0][0]']      \n",
            "                                                                                                  \n",
            " conv3_block3_out (Activation)  (None, 28, 28, 512)  0           ['conv3_block3_add[0][0]']       \n",
            "                                                                                                  \n",
            " conv3_block4_1_conv (Conv2D)   (None, 28, 28, 128)  65664       ['conv3_block3_out[0][0]']       \n",
            "                                                                                                  \n",
            " conv3_block4_1_bn (BatchNormal  (None, 28, 28, 128)  512        ['conv3_block4_1_conv[0][0]']    \n",
            " ization)                                                                                         \n",
            "                                                                                                  \n",
            " conv3_block4_1_relu (Activatio  (None, 28, 28, 128)  0          ['conv3_block4_1_bn[0][0]']      \n",
            " n)                                                                                               \n",
            "                                                                                                  \n",
            " conv3_block4_2_conv (Conv2D)   (None, 28, 28, 128)  147584      ['conv3_block4_1_relu[0][0]']    \n",
            "                                                                                                  \n",
            " conv3_block4_2_bn (BatchNormal  (None, 28, 28, 128)  512        ['conv3_block4_2_conv[0][0]']    \n",
            " ization)                                                                                         \n",
            "                                                                                                  \n",
            " conv3_block4_2_relu (Activatio  (None, 28, 28, 128)  0          ['conv3_block4_2_bn[0][0]']      \n",
            " n)                                                                                               \n",
            "                                                                                                  \n",
            " conv3_block4_3_conv (Conv2D)   (None, 28, 28, 512)  66048       ['conv3_block4_2_relu[0][0]']    \n",
            "                                                                                                  \n",
            " conv3_block4_3_bn (BatchNormal  (None, 28, 28, 512)  2048       ['conv3_block4_3_conv[0][0]']    \n",
            " ization)                                                                                         \n",
            "                                                                                                  \n",
            " conv3_block4_add (Add)         (None, 28, 28, 512)  0           ['conv3_block3_out[0][0]',       \n",
            "                                                                  'conv3_block4_3_bn[0][0]']      \n",
            "                                                                                                  \n",
            " conv3_block4_out (Activation)  (None, 28, 28, 512)  0           ['conv3_block4_add[0][0]']       \n",
            "                                                                                                  \n",
            " conv4_block1_1_conv (Conv2D)   (None, 14, 14, 256)  131328      ['conv3_block4_out[0][0]']       \n",
            "                                                                                                  \n",
            " conv4_block1_1_bn (BatchNormal  (None, 14, 14, 256)  1024       ['conv4_block1_1_conv[0][0]']    \n",
            " ization)                                                                                         \n",
            "                                                                                                  \n",
            " conv4_block1_1_relu (Activatio  (None, 14, 14, 256)  0          ['conv4_block1_1_bn[0][0]']      \n",
            " n)                                                                                               \n",
            "                                                                                                  \n",
            " conv4_block1_2_conv (Conv2D)   (None, 14, 14, 256)  590080      ['conv4_block1_1_relu[0][0]']    \n",
            "                                                                                                  \n",
            " conv4_block1_2_bn (BatchNormal  (None, 14, 14, 256)  1024       ['conv4_block1_2_conv[0][0]']    \n",
            " ization)                                                                                         \n",
            "                                                                                                  \n",
            " conv4_block1_2_relu (Activatio  (None, 14, 14, 256)  0          ['conv4_block1_2_bn[0][0]']      \n",
            " n)                                                                                               \n",
            "                                                                                                  \n",
            " conv4_block1_0_conv (Conv2D)   (None, 14, 14, 1024  525312      ['conv3_block4_out[0][0]']       \n",
            "                                )                                                                 \n",
            "                                                                                                  \n",
            " conv4_block1_3_conv (Conv2D)   (None, 14, 14, 1024  263168      ['conv4_block1_2_relu[0][0]']    \n",
            "                                )                                                                 \n",
            "                                                                                                  \n",
            " conv4_block1_0_bn (BatchNormal  (None, 14, 14, 1024  4096       ['conv4_block1_0_conv[0][0]']    \n",
            " ization)                       )                                                                 \n",
            "                                                                                                  \n",
            " conv4_block1_3_bn (BatchNormal  (None, 14, 14, 1024  4096       ['conv4_block1_3_conv[0][0]']    \n",
            " ization)                       )                                                                 \n",
            "                                                                                                  \n",
            " conv4_block1_add (Add)         (None, 14, 14, 1024  0           ['conv4_block1_0_bn[0][0]',      \n",
            "                                )                                 'conv4_block1_3_bn[0][0]']      \n",
            "                                                                                                  \n",
            " conv4_block1_out (Activation)  (None, 14, 14, 1024  0           ['conv4_block1_add[0][0]']       \n",
            "                                )                                                                 \n",
            "                                                                                                  \n",
            " conv4_block2_1_conv (Conv2D)   (None, 14, 14, 256)  262400      ['conv4_block1_out[0][0]']       \n",
            "                                                                                                  \n",
            " conv4_block2_1_bn (BatchNormal  (None, 14, 14, 256)  1024       ['conv4_block2_1_conv[0][0]']    \n",
            " ization)                                                                                         \n",
            "                                                                                                  \n",
            " conv4_block2_1_relu (Activatio  (None, 14, 14, 256)  0          ['conv4_block2_1_bn[0][0]']      \n",
            " n)                                                                                               \n",
            "                                                                                                  \n",
            " conv4_block2_2_conv (Conv2D)   (None, 14, 14, 256)  590080      ['conv4_block2_1_relu[0][0]']    \n",
            "                                                                                                  \n",
            " conv4_block2_2_bn (BatchNormal  (None, 14, 14, 256)  1024       ['conv4_block2_2_conv[0][0]']    \n",
            " ization)                                                                                         \n",
            "                                                                                                  \n",
            " conv4_block2_2_relu (Activatio  (None, 14, 14, 256)  0          ['conv4_block2_2_bn[0][0]']      \n",
            " n)                                                                                               \n",
            "                                                                                                  \n",
            " conv4_block2_3_conv (Conv2D)   (None, 14, 14, 1024  263168      ['conv4_block2_2_relu[0][0]']    \n",
            "                                )                                                                 \n",
            "                                                                                                  \n",
            " conv4_block2_3_bn (BatchNormal  (None, 14, 14, 1024  4096       ['conv4_block2_3_conv[0][0]']    \n",
            " ization)                       )                                                                 \n",
            "                                                                                                  \n",
            " conv4_block2_add (Add)         (None, 14, 14, 1024  0           ['conv4_block1_out[0][0]',       \n",
            "                                )                                 'conv4_block2_3_bn[0][0]']      \n",
            "                                                                                                  \n",
            " conv4_block2_out (Activation)  (None, 14, 14, 1024  0           ['conv4_block2_add[0][0]']       \n",
            "                                )                                                                 \n",
            "                                                                                                  \n",
            " conv4_block3_1_conv (Conv2D)   (None, 14, 14, 256)  262400      ['conv4_block2_out[0][0]']       \n",
            "                                                                                                  \n",
            " conv4_block3_1_bn (BatchNormal  (None, 14, 14, 256)  1024       ['conv4_block3_1_conv[0][0]']    \n",
            " ization)                                                                                         \n",
            "                                                                                                  \n",
            " conv4_block3_1_relu (Activatio  (None, 14, 14, 256)  0          ['conv4_block3_1_bn[0][0]']      \n",
            " n)                                                                                               \n",
            "                                                                                                  \n",
            " conv4_block3_2_conv (Conv2D)   (None, 14, 14, 256)  590080      ['conv4_block3_1_relu[0][0]']    \n",
            "                                                                                                  \n",
            " conv4_block3_2_bn (BatchNormal  (None, 14, 14, 256)  1024       ['conv4_block3_2_conv[0][0]']    \n",
            " ization)                                                                                         \n",
            "                                                                                                  \n",
            " conv4_block3_2_relu (Activatio  (None, 14, 14, 256)  0          ['conv4_block3_2_bn[0][0]']      \n",
            " n)                                                                                               \n",
            "                                                                                                  \n",
            " conv4_block3_3_conv (Conv2D)   (None, 14, 14, 1024  263168      ['conv4_block3_2_relu[0][0]']    \n",
            "                                )                                                                 \n",
            "                                                                                                  \n",
            " conv4_block3_3_bn (BatchNormal  (None, 14, 14, 1024  4096       ['conv4_block3_3_conv[0][0]']    \n",
            " ization)                       )                                                                 \n",
            "                                                                                                  \n",
            " conv4_block3_add (Add)         (None, 14, 14, 1024  0           ['conv4_block2_out[0][0]',       \n",
            "                                )                                 'conv4_block3_3_bn[0][0]']      \n",
            "                                                                                                  \n",
            " conv4_block3_out (Activation)  (None, 14, 14, 1024  0           ['conv4_block3_add[0][0]']       \n",
            "                                )                                                                 \n",
            "                                                                                                  \n",
            " conv4_block4_1_conv (Conv2D)   (None, 14, 14, 256)  262400      ['conv4_block3_out[0][0]']       \n",
            "                                                                                                  \n",
            " conv4_block4_1_bn (BatchNormal  (None, 14, 14, 256)  1024       ['conv4_block4_1_conv[0][0]']    \n",
            " ization)                                                                                         \n",
            "                                                                                                  \n",
            " conv4_block4_1_relu (Activatio  (None, 14, 14, 256)  0          ['conv4_block4_1_bn[0][0]']      \n",
            " n)                                                                                               \n",
            "                                                                                                  \n",
            " conv4_block4_2_conv (Conv2D)   (None, 14, 14, 256)  590080      ['conv4_block4_1_relu[0][0]']    \n",
            "                                                                                                  \n",
            " conv4_block4_2_bn (BatchNormal  (None, 14, 14, 256)  1024       ['conv4_block4_2_conv[0][0]']    \n",
            " ization)                                                                                         \n",
            "                                                                                                  \n",
            " conv4_block4_2_relu (Activatio  (None, 14, 14, 256)  0          ['conv4_block4_2_bn[0][0]']      \n",
            " n)                                                                                               \n",
            "                                                                                                  \n",
            " conv4_block4_3_conv (Conv2D)   (None, 14, 14, 1024  263168      ['conv4_block4_2_relu[0][0]']    \n",
            "                                )                                                                 \n",
            "                                                                                                  \n",
            " conv4_block4_3_bn (BatchNormal  (None, 14, 14, 1024  4096       ['conv4_block4_3_conv[0][0]']    \n",
            " ization)                       )                                                                 \n",
            "                                                                                                  \n",
            " conv4_block4_add (Add)         (None, 14, 14, 1024  0           ['conv4_block3_out[0][0]',       \n",
            "                                )                                 'conv4_block4_3_bn[0][0]']      \n",
            "                                                                                                  \n",
            " conv4_block4_out (Activation)  (None, 14, 14, 1024  0           ['conv4_block4_add[0][0]']       \n",
            "                                )                                                                 \n",
            "                                                                                                  \n",
            " conv4_block5_1_conv (Conv2D)   (None, 14, 14, 256)  262400      ['conv4_block4_out[0][0]']       \n",
            "                                                                                                  \n",
            " conv4_block5_1_bn (BatchNormal  (None, 14, 14, 256)  1024       ['conv4_block5_1_conv[0][0]']    \n",
            " ization)                                                                                         \n",
            "                                                                                                  \n",
            " conv4_block5_1_relu (Activatio  (None, 14, 14, 256)  0          ['conv4_block5_1_bn[0][0]']      \n",
            " n)                                                                                               \n",
            "                                                                                                  \n",
            " conv4_block5_2_conv (Conv2D)   (None, 14, 14, 256)  590080      ['conv4_block5_1_relu[0][0]']    \n",
            "                                                                                                  \n",
            " conv4_block5_2_bn (BatchNormal  (None, 14, 14, 256)  1024       ['conv4_block5_2_conv[0][0]']    \n",
            " ization)                                                                                         \n",
            "                                                                                                  \n",
            " conv4_block5_2_relu (Activatio  (None, 14, 14, 256)  0          ['conv4_block5_2_bn[0][0]']      \n",
            " n)                                                                                               \n",
            "                                                                                                  \n",
            " conv4_block5_3_conv (Conv2D)   (None, 14, 14, 1024  263168      ['conv4_block5_2_relu[0][0]']    \n",
            "                                )                                                                 \n",
            "                                                                                                  \n",
            " conv4_block5_3_bn (BatchNormal  (None, 14, 14, 1024  4096       ['conv4_block5_3_conv[0][0]']    \n",
            " ization)                       )                                                                 \n",
            "                                                                                                  \n",
            " conv4_block5_add (Add)         (None, 14, 14, 1024  0           ['conv4_block4_out[0][0]',       \n",
            "                                )                                 'conv4_block5_3_bn[0][0]']      \n",
            "                                                                                                  \n",
            " conv4_block5_out (Activation)  (None, 14, 14, 1024  0           ['conv4_block5_add[0][0]']       \n",
            "                                )                                                                 \n",
            "                                                                                                  \n",
            " conv4_block6_1_conv (Conv2D)   (None, 14, 14, 256)  262400      ['conv4_block5_out[0][0]']       \n",
            "                                                                                                  \n",
            " conv4_block6_1_bn (BatchNormal  (None, 14, 14, 256)  1024       ['conv4_block6_1_conv[0][0]']    \n",
            " ization)                                                                                         \n",
            "                                                                                                  \n",
            " conv4_block6_1_relu (Activatio  (None, 14, 14, 256)  0          ['conv4_block6_1_bn[0][0]']      \n",
            " n)                                                                                               \n",
            "                                                                                                  \n",
            " conv4_block6_2_conv (Conv2D)   (None, 14, 14, 256)  590080      ['conv4_block6_1_relu[0][0]']    \n",
            "                                                                                                  \n",
            " conv4_block6_2_bn (BatchNormal  (None, 14, 14, 256)  1024       ['conv4_block6_2_conv[0][0]']    \n",
            " ization)                                                                                         \n",
            "                                                                                                  \n",
            " conv4_block6_2_relu (Activatio  (None, 14, 14, 256)  0          ['conv4_block6_2_bn[0][0]']      \n",
            " n)                                                                                               \n",
            "                                                                                                  \n",
            " conv4_block6_3_conv (Conv2D)   (None, 14, 14, 1024  263168      ['conv4_block6_2_relu[0][0]']    \n",
            "                                )                                                                 \n",
            "                                                                                                  \n",
            " conv4_block6_3_bn (BatchNormal  (None, 14, 14, 1024  4096       ['conv4_block6_3_conv[0][0]']    \n",
            " ization)                       )                                                                 \n",
            "                                                                                                  \n",
            " conv4_block6_add (Add)         (None, 14, 14, 1024  0           ['conv4_block5_out[0][0]',       \n",
            "                                )                                 'conv4_block6_3_bn[0][0]']      \n",
            "                                                                                                  \n",
            " conv4_block6_out (Activation)  (None, 14, 14, 1024  0           ['conv4_block6_add[0][0]']       \n",
            "                                )                                                                 \n",
            "                                                                                                  \n",
            " conv5_block1_1_conv (Conv2D)   (None, 7, 7, 512)    524800      ['conv4_block6_out[0][0]']       \n",
            "                                                                                                  \n",
            " conv5_block1_1_bn (BatchNormal  (None, 7, 7, 512)   2048        ['conv5_block1_1_conv[0][0]']    \n",
            " ization)                                                                                         \n",
            "                                                                                                  \n",
            " conv5_block1_1_relu (Activatio  (None, 7, 7, 512)   0           ['conv5_block1_1_bn[0][0]']      \n",
            " n)                                                                                               \n",
            "                                                                                                  \n",
            " conv5_block1_2_conv (Conv2D)   (None, 7, 7, 512)    2359808     ['conv5_block1_1_relu[0][0]']    \n",
            "                                                                                                  \n",
            " conv5_block1_2_bn (BatchNormal  (None, 7, 7, 512)   2048        ['conv5_block1_2_conv[0][0]']    \n",
            " ization)                                                                                         \n",
            "                                                                                                  \n",
            " conv5_block1_2_relu (Activatio  (None, 7, 7, 512)   0           ['conv5_block1_2_bn[0][0]']      \n",
            " n)                                                                                               \n",
            "                                                                                                  \n",
            " conv5_block1_0_conv (Conv2D)   (None, 7, 7, 2048)   2099200     ['conv4_block6_out[0][0]']       \n",
            "                                                                                                  \n",
            " conv5_block1_3_conv (Conv2D)   (None, 7, 7, 2048)   1050624     ['conv5_block1_2_relu[0][0]']    \n",
            "                                                                                                  \n",
            " conv5_block1_0_bn (BatchNormal  (None, 7, 7, 2048)  8192        ['conv5_block1_0_conv[0][0]']    \n",
            " ization)                                                                                         \n",
            "                                                                                                  \n",
            " conv5_block1_3_bn (BatchNormal  (None, 7, 7, 2048)  8192        ['conv5_block1_3_conv[0][0]']    \n",
            " ization)                                                                                         \n",
            "                                                                                                  \n",
            " conv5_block1_add (Add)         (None, 7, 7, 2048)   0           ['conv5_block1_0_bn[0][0]',      \n",
            "                                                                  'conv5_block1_3_bn[0][0]']      \n",
            "                                                                                                  \n",
            " conv5_block1_out (Activation)  (None, 7, 7, 2048)   0           ['conv5_block1_add[0][0]']       \n",
            "                                                                                                  \n",
            " conv5_block2_1_conv (Conv2D)   (None, 7, 7, 512)    1049088     ['conv5_block1_out[0][0]']       \n",
            "                                                                                                  \n",
            " conv5_block2_1_bn (BatchNormal  (None, 7, 7, 512)   2048        ['conv5_block2_1_conv[0][0]']    \n",
            " ization)                                                                                         \n",
            "                                                                                                  \n",
            " conv5_block2_1_relu (Activatio  (None, 7, 7, 512)   0           ['conv5_block2_1_bn[0][0]']      \n",
            " n)                                                                                               \n",
            "                                                                                                  \n",
            " conv5_block2_2_conv (Conv2D)   (None, 7, 7, 512)    2359808     ['conv5_block2_1_relu[0][0]']    \n",
            "                                                                                                  \n",
            " conv5_block2_2_bn (BatchNormal  (None, 7, 7, 512)   2048        ['conv5_block2_2_conv[0][0]']    \n",
            " ization)                                                                                         \n",
            "                                                                                                  \n",
            " conv5_block2_2_relu (Activatio  (None, 7, 7, 512)   0           ['conv5_block2_2_bn[0][0]']      \n",
            " n)                                                                                               \n",
            "                                                                                                  \n",
            " conv5_block2_3_conv (Conv2D)   (None, 7, 7, 2048)   1050624     ['conv5_block2_2_relu[0][0]']    \n",
            "                                                                                                  \n",
            " conv5_block2_3_bn (BatchNormal  (None, 7, 7, 2048)  8192        ['conv5_block2_3_conv[0][0]']    \n",
            " ization)                                                                                         \n",
            "                                                                                                  \n",
            " conv5_block2_add (Add)         (None, 7, 7, 2048)   0           ['conv5_block1_out[0][0]',       \n",
            "                                                                  'conv5_block2_3_bn[0][0]']      \n",
            "                                                                                                  \n",
            " conv5_block2_out (Activation)  (None, 7, 7, 2048)   0           ['conv5_block2_add[0][0]']       \n",
            "                                                                                                  \n",
            " conv5_block3_1_conv (Conv2D)   (None, 7, 7, 512)    1049088     ['conv5_block2_out[0][0]']       \n",
            "                                                                                                  \n",
            " conv5_block3_1_bn (BatchNormal  (None, 7, 7, 512)   2048        ['conv5_block3_1_conv[0][0]']    \n",
            " ization)                                                                                         \n",
            "                                                                                                  \n",
            " conv5_block3_1_relu (Activatio  (None, 7, 7, 512)   0           ['conv5_block3_1_bn[0][0]']      \n",
            " n)                                                                                               \n",
            "                                                                                                  \n",
            " conv5_block3_2_conv (Conv2D)   (None, 7, 7, 512)    2359808     ['conv5_block3_1_relu[0][0]']    \n",
            "                                                                                                  \n",
            " conv5_block3_2_bn (BatchNormal  (None, 7, 7, 512)   2048        ['conv5_block3_2_conv[0][0]']    \n",
            " ization)                                                                                         \n",
            "                                                                                                  \n",
            " conv5_block3_2_relu (Activatio  (None, 7, 7, 512)   0           ['conv5_block3_2_bn[0][0]']      \n",
            " n)                                                                                               \n",
            "                                                                                                  \n",
            " conv5_block3_3_conv (Conv2D)   (None, 7, 7, 2048)   1050624     ['conv5_block3_2_relu[0][0]']    \n",
            "                                                                                                  \n",
            " conv5_block3_3_bn (BatchNormal  (None, 7, 7, 2048)  8192        ['conv5_block3_3_conv[0][0]']    \n",
            " ization)                                                                                         \n",
            "                                                                                                  \n",
            " conv5_block3_add (Add)         (None, 7, 7, 2048)   0           ['conv5_block2_out[0][0]',       \n",
            "                                                                  'conv5_block3_3_bn[0][0]']      \n",
            "                                                                                                  \n",
            " conv5_block3_out (Activation)  (None, 7, 7, 2048)   0           ['conv5_block3_add[0][0]']       \n",
            "                                                                                                  \n",
            " avg_pool (GlobalAveragePooling  (None, 2048)        0           ['conv5_block3_out[0][0]']       \n",
            " 2D)                                                                                              \n",
            "                                                                                                  \n",
            " predictions (Dense)            (None, 1000)         2049000     ['avg_pool[0][0]']               \n",
            "                                                                                                  \n",
            " flatten_8 (Flatten)            (None, 1000)         0           ['predictions[0][0]']            \n",
            "                                                                                                  \n",
            " dropout_24 (Dropout)           (None, 1000)         0           ['flatten_8[0][0]']              \n",
            "                                                                                                  \n",
            " dense_40 (Dense)               (None, 512)          512512      ['dropout_24[0][0]']             \n",
            "                                                                                                  \n",
            " dropout_25 (Dropout)           (None, 512)          0           ['dense_40[0][0]']               \n",
            "                                                                                                  \n",
            " dense_41 (Dense)               (None, 256)          131328      ['dropout_25[0][0]']             \n",
            "                                                                                                  \n",
            " dropout_26 (Dropout)           (None, 256)          0           ['dense_41[0][0]']               \n",
            "                                                                                                  \n",
            " dense_42 (Dense)               (None, 136)          34952       ['dropout_26[0][0]']             \n",
            "                                                                                                  \n",
            " dense_43 (Dense)               (None, 136)          18632       ['dense_42[0][0]']               \n",
            "                                                                                                  \n",
            " dense_44 (Dense)               (None, 136)          18632       ['dense_43[0][0]']               \n",
            "                                                                                                  \n",
            "==================================================================================================\n",
            "Total params: 26,352,768\n",
            "Trainable params: 26,299,648\n",
            "Non-trainable params: 53,120\n",
            "__________________________________________________________________________________________________\n"
          ]
        }
      ],
      "source": [
        "from keras.applications import ResNet50\n",
        "from keras.models import Model\n",
        "\n",
        "def model_builder():\n",
        "  \n",
        "  base_model =  ResNet50(weights='imagenet', \n",
        "                         input_shape = (HEIGHT, WIDTH, 3))\n",
        "  # Add new classifier layers\n",
        "  x = Flatten()(base_model.layers[-1].output)\n",
        "  x = Dropout(0.5)(x)\n",
        "\n",
        "  x = Dense(512, activation='relu')(x)\n",
        "  x = Dropout(0.4)(x)\n",
        "\n",
        "  x = Dense(256, activation='relu')(x)\n",
        "  x = Dropout(0.3)(x)\n",
        "\n",
        "  x = Dense(136, activation='sigmoid')(x)\n",
        "  x = Dense(136, activation='sigmoid')(x)\n",
        "  output = Dense(136, activation='sigmoid')(x)\n",
        "\n",
        "  # Print base model summary\n",
        "  \n",
        "  model = Model(inputs = base_model.inputs, outputs = output)\n",
        "  model.summary()\n",
        "\n",
        "  return model\n",
        " \n",
        "model = model_builder()"
      ]
    },
    {
      "cell_type": "markdown",
      "metadata": {
        "id": "p39ecVLN614o"
      },
      "source": [
        "### 8.1 Get model from googld drive"
      ]
    },
    {
      "cell_type": "code",
      "execution_count": null,
      "metadata": {
        "colab": {
          "base_uri": "https://localhost:8080/"
        },
        "id": "wEe1Scns5rrF",
        "outputId": "595d50ce-376d-4505-da60-5596f1776009"
      },
      "outputs": [
        {
          "name": "stdout",
          "output_type": "stream",
          "text": [
            "Drive already mounted at /content/drive/; to attempt to forcibly remount, call drive.mount(\"/content/drive/\", force_remount=True).\n",
            "returning latest model on google drive of section number = 2\n"
          ]
        },
        {
          "name": "stderr",
          "output_type": "stream",
          "text": [
            "WARNING:tensorflow:No training configuration found in the save file, so the model was *not* compiled. Compile it manually.\n"
          ]
        },
        {
          "data": {
            "text/plain": [
              "<keras.engine.functional.Functional at 0x7f4310c3b9d0>"
            ]
          },
          "execution_count": 80,
          "metadata": {},
          "output_type": "execute_result"
        }
      ],
      "source": [
        "from google.colab import drive\n",
        "drive.mount('/content/drive/')\n",
        "\n",
        "def get_model(model_numer = None, last_avilable_model = True):\n",
        "  all_models = os.listdir(\"/content/drive/MyDrive/DL_JTA/Lab05/training_models\")\n",
        "  all_models = sorted(all_models)\n",
        "  all_models = [x for x in all_models if f\"model{section_number}\" in x]\n",
        "  if len(all_models) == 0:\n",
        "    print(\"Found no models on drive, i will get you a new one to train\")\n",
        "    return model_builder()\n",
        "  if model_numer is None:\n",
        "      print(f\"returning latest model on google drive of section number = {section_number}\")\n",
        "      model = load_model (f'/content/drive/MyDrive/DL_JTA/Lab05/training_models/{all_models[-1]}')\n",
        "      return model\n",
        "  else:\n",
        "    assert f\"model{section_number}_epoch{model_numer}.h5\" in all_models\n",
        "    model = load_model (f'/content/drive/MyDrive/DL_JTA/Lab05/training_models/{model_numer}')\n",
        "    return model\n",
        "      \n",
        "get_model()"
      ]
    },
    {
      "cell_type": "markdown",
      "metadata": {
        "id": "ebDIfSQY7F7j"
      },
      "source": [
        "### 8.2 Save model on google drive"
      ]
    },
    {
      "cell_type": "code",
      "execution_count": null,
      "metadata": {
        "id": "Cl_eEFbz6y5k"
      },
      "outputs": [],
      "source": [
        "def save_img(epoch):\n",
        "  for img_num in range(1, 3):\n",
        "    img_name = f\"/content/tst_imgs/section{section_number}_tst{epoch}_{img_num}.png\"\n",
        "    shutil.copy(img_name ,f'/content/drive/MyDrive/DL_JTA/Lab05/training_imgs/') # The colored-first\n"
      ]
    },
    {
      "cell_type": "code",
      "execution_count": null,
      "metadata": {
        "id": "bNbM490u6y3K"
      },
      "outputs": [],
      "source": [
        "def number_counter():\n",
        "  num = 0\n",
        "  while True:\n",
        "    yield num\n",
        "    num +=1\n",
        "num_counter = number_counter()\n",
        "def save_mode(model, offset = 0):\n",
        "  cur_num = next(num_counter)\n",
        "  model.save(f\"model{section_number}_epoch{cur_num + offset}.h5\")\n",
        "  shutil.copy(f\"model{section_number}_epoch{cur_num + offset}.h5\" ,f'/content/drive/MyDrive/DL_JTA/Lab05/training_models/') # The colored-first\n"
      ]
    },
    {
      "cell_type": "markdown",
      "metadata": {
        "id": "lMoORa5-7dFy"
      },
      "source": [
        "### 8.3 Optimizer"
      ]
    },
    {
      "cell_type": "code",
      "execution_count": null,
      "metadata": {
        "id": "IJX88V-x7gz-"
      },
      "outputs": [],
      "source": [
        "lr = 0.001 # You can change this value \n",
        "beta_1 = 0.9 # Default value \n",
        "beta_2 = 0.999 # Default value \n",
        "epsilon = 1e-07 # Default value \n",
        "# Create an instance of Adam optimizer\n",
        "optimizer = Adam(learning_rate=lr, beta_1=beta_1, beta_2=beta_2, epsilon=epsilon)"
      ]
    },
    {
      "cell_type": "markdown",
      "metadata": {
        "id": "Bl0KjHQQ7if9"
      },
      "source": [
        "### 8.4 For testing the model"
      ]
    },
    {
      "cell_type": "code",
      "execution_count": null,
      "metadata": {
        "colab": {
          "base_uri": "https://localhost:8080/"
        },
        "id": "wvrdJOYm7jce",
        "outputId": "6fbe893f-3a03-405f-9790-c3b58d465ae9"
      },
      "outputs": [
        {
          "name": "stdout",
          "output_type": "stream",
          "text": [
            "mkdir: cannot create directory ‘tst_imgs’: File exists\n",
            "returning latest model on google drive of section number = 2\n"
          ]
        },
        {
          "name": "stderr",
          "output_type": "stream",
          "text": [
            "WARNING:tensorflow:No training configuration found in the save file, so the model was *not* compiled. Compile it manually.\n"
          ]
        },
        {
          "name": "stdout",
          "output_type": "stream",
          "text": [
            "(1, 224, 224, 3)\n",
            "1/1 [==============================] - 1s 1s/step\n",
            "(1, 224, 224, 3)\n",
            "1/1 [==============================] - 0s 29ms/step\n"
          ]
        }
      ],
      "source": [
        "!mkdir tst_imgs\n",
        "model = get_model()\n",
        "def _test_model(filename = None, img_num = '03000', img = None, show_img = False, save = True, save_name = None):\n",
        "  if img is None:\n",
        "    img =cv2.imread(filename)\n",
        "  img = cv2.resize(img, (WIDTH, HEIGHT))\n",
        "  # Convert it to a numpy array\n",
        "  img_array = img_to_array(img)\n",
        "\n",
        "  # Add a batch dimension\n",
        "  img_batch = np.expand_dims(img_array, axis=0)\n",
        "\n",
        "  # Pass it to the model\n",
        "  print(img_batch.shape)\n",
        "  lands_norm = model.predict(img_batch)\n",
        "\n",
        "  show_face_lands_normalized(img, lands_norm[0], show_img = show_img, save = save, filename = save_name, img_width = WIDTH, img_height = HEIGHT)\n",
        "\n",
        "def test_model(epoch):\n",
        "  _test_model(img = cv2.imread(\"/content/comp_data/images/03000.png\"), show_img  = False, save_name = f\"tst_imgs/section{section_number}_tst{epoch}_{1}.png\")\n",
        "  _test_model(img = cv2.imread(\"/content/comp_data/images/03001.png\"), show_img  = False, save_name = f\"tst_imgs/section{section_number}_tst{epoch}_{2}.png\")\n",
        "test_model(0)"
      ]
    },
    {
      "cell_type": "markdown",
      "metadata": {
        "id": "mXnUH4_X7vwj"
      },
      "source": [
        "### 8.5 Training"
      ]
    },
    {
      "cell_type": "code",
      "execution_count": null,
      "metadata": {
        "colab": {
          "base_uri": "https://localhost:8080/"
        },
        "id": "7rvKg8HC7xK3",
        "outputId": "e8c2b21f-0e77-4397-a0f0-efeede2e3e44"
      },
      "outputs": [
        {
          "name": "stdout",
          "output_type": "stream",
          "text": [
            "returning latest model on google drive of section number = 2\n"
          ]
        },
        {
          "name": "stderr",
          "output_type": "stream",
          "text": [
            "WARNING:tensorflow:No training configuration found in the save file, so the model was *not* compiled. Compile it manually.\n"
          ]
        }
      ],
      "source": [
        "model = get_model()"
      ]
    },
    {
      "cell_type": "code",
      "execution_count": null,
      "metadata": {
        "id": "AVP2OQC37yvc"
      },
      "outputs": [],
      "source": [
        "loss_fn = mean_squared_error # Your loss function\n",
        "train_loss_tracker = tf.keras.metrics.Mean() # To track training loss\n",
        "val_loss_tracker = tf.keras.metrics.Mean() # To track validation loss\n",
        "train_acc_metric = MeanSquaredError(name=\"mse\") # Your metric for training accuracy\n",
        "val_acc_metric = MeanSquaredError(name=\"mse\") # Your metric for validation accuracy"
      ]
    },
    {
      "cell_type": "code",
      "execution_count": null,
      "metadata": {
        "id": "QixxxuoC71Xo"
      },
      "outputs": [],
      "source": [
        "# Define your train_step and val_step functions\n",
        "@tf.function(experimental_relax_shapes=True)\n",
        "def train_step(x, y):\n",
        "  with tf.GradientTape() as tape:\n",
        "    logits = model(x, training=True) # Forward pass\n",
        "    loss_value = loss_fn(y, logits) # Compute loss\n",
        "  grads = tape.gradient(loss_value, model.trainable_weights) # Compute gradients\n",
        "  optimizer.apply_gradients(zip(grads, model.trainable_weights)) # Update weights\n",
        "  train_loss_tracker.update_state(loss_value) # Update training loss tracker\n",
        "  train_acc_metric.update_state(y, logits) # Update training accuracy metric\n",
        "  return {\"train_loss\": train_loss_tracker.result(), \"train_accuracy\": train_acc_metric.result()} # Return a dict of metrics\n",
        "\n",
        "@tf.function(experimental_relax_shapes=True)\n",
        "def val_step(x, y):\n",
        "  val_logits = model(x, training=False) # Forward pass without updating weights\n",
        "  val_loss = loss_fn(y, val_logits) # Compute validation loss\n",
        "  val_loss_tracker.update_state(val_loss) # Update validation loss tracker\n",
        "  val_acc_metric.update_state(y, val_logits) # Update validation accuracy metric \n",
        "  return {\"val_loss\": val_loss_tracker.result(), \"val_accuracy\": val_acc_metric.result()} # Return a dict of metrics\n"
      ]
    },
    {
      "cell_type": "code",
      "execution_count": null,
      "metadata": {
        "colab": {
          "background_save": true,
          "base_uri": "https://localhost:8080/"
        },
        "id": "ybBD9wZi72oy",
        "outputId": "e32d057f-641c-4c45-fd0f-2cb94015789b"
      },
      "outputs": [
        {
          "name": "stdout",
          "output_type": "stream",
          "text": [
            "\n",
            "Start of epoch 0\n",
            "3000\n",
            "93/93 [==============================] - 116s 875ms/step - train_loss: 0.0011\n",
            "94/93 [==============================] - 122s 928ms/step - train_loss: 0.0011\n",
            "(1, 224, 224, 3)\n",
            "1/1 [==============================] - 1s 904ms/step\n",
            "(1, 224, 224, 3)\n",
            "1/1 [==============================] - 0s 28ms/step\n"
          ]
        },
        {
          "name": "stderr",
          "output_type": "stream",
          "text": [
            "WARNING:tensorflow:Compiled the loaded model, but the compiled metrics have yet to be built. `model.compile_metrics` will be empty until you train or evaluate the model.\n"
          ]
        },
        {
          "name": "stdout",
          "output_type": "stream",
          "text": [
            "1000\n",
            "Validation loss: 0.0369\n",
            "\n",
            "Start of epoch 1\n",
            "3000\n",
            "93/93 [==============================] - 227s 872ms/step - train_loss: 0.0011\n",
            "94/93 [==============================] - 228s 870ms/step - train_loss: 0.0011\n",
            "(1, 224, 224, 3)\n",
            "1/1 [==============================] - 0s 29ms/step\n",
            "(1, 224, 224, 3)\n",
            "1/1 [==============================] - 0s 26ms/step\n",
            "1000\n",
            "Validation loss: 0.0368\n",
            "\n",
            "Start of epoch 2\n",
            "3000\n",
            "93/93 [==============================] - 327s 874ms/step - train_loss: 0.0011\n",
            "94/93 [==============================] - 328s 875ms/step - train_loss: 0.0011\n",
            "(1, 224, 224, 3)\n",
            "1/1 [==============================] - 0s 47ms/step\n",
            "(1, 224, 224, 3)\n",
            "1/1 [==============================] - 0s 40ms/step\n",
            "1000\n",
            "Validation loss: 0.0368\n",
            "\n",
            "Start of epoch 3\n",
            "3000\n",
            "93/93 [==============================] - 427s 869ms/step - train_loss: 0.0011\n",
            "94/93 [==============================] - 427s 867ms/step - train_loss: 0.0011\n",
            "(1, 224, 224, 3)\n",
            "1/1 [==============================] - 0s 28ms/step\n",
            "(1, 224, 224, 3)\n",
            "1/1 [==============================] - 0s 28ms/step\n",
            "1000\n",
            "Validation loss: 0.0368\n",
            "\n",
            "Start of epoch 4\n",
            "3000\n",
            "93/93 [==============================] - 526s 869ms/step - train_loss: 0.0011\n",
            "94/93 [==============================] - 526s 867ms/step - train_loss: 0.0011\n",
            "(1, 224, 224, 3)\n",
            "1/1 [==============================] - 0s 26ms/step\n",
            "(1, 224, 224, 3)\n",
            "1/1 [==============================] - 0s 26ms/step\n",
            "1000\n",
            "Validation loss: 0.0368\n",
            "\n",
            "Start of epoch 5\n",
            "3000\n",
            "93/93 [==============================] - 626s 871ms/step - train_loss: 0.0011\n",
            "94/93 [==============================] - 627s 869ms/step - train_loss: 0.0011\n",
            "(1, 224, 224, 3)\n",
            "1/1 [==============================] - 0s 27ms/step\n",
            "(1, 224, 224, 3)\n",
            "1/1 [==============================] - 0s 24ms/step\n"
          ]
        },
        {
          "name": "stderr",
          "output_type": "stream",
          "text": [
            "WARNING:tensorflow:Compiled the loaded model, but the compiled metrics have yet to be built. `model.compile_metrics` will be empty until you train or evaluate the model.\n"
          ]
        },
        {
          "name": "stdout",
          "output_type": "stream",
          "text": [
            "1000\n",
            "Validation loss: 0.0368\n",
            "\n",
            "Start of epoch 6\n",
            "3000\n",
            "93/93 [==============================] - 728s 876ms/step - train_loss: 0.0011\n",
            "94/93 [==============================] - 728s 874ms/step - train_loss: 0.0011\n",
            "(1, 224, 224, 3)\n",
            "1/1 [==============================] - 0s 29ms/step\n",
            "(1, 224, 224, 3)\n",
            "1/1 [==============================] - 0s 26ms/step\n",
            "1000\n",
            "Validation loss: 0.0368\n",
            "\n",
            "Start of epoch 7\n",
            "3000\n",
            "93/93 [==============================] - 828s 871ms/step - train_loss: 0.0011\n",
            "94/93 [==============================] - 829s 870ms/step - train_loss: 0.0011\n",
            "(1, 224, 224, 3)\n",
            "1/1 [==============================] - 0s 27ms/step\n",
            "(1, 224, 224, 3)\n",
            "1/1 [==============================] - 0s 27ms/step\n",
            "1000\n",
            "Validation loss: 0.0368\n",
            "\n",
            "Start of epoch 8\n",
            "3000\n",
            "93/93 [==============================] - 928s 870ms/step - train_loss: 0.0011\n",
            "94/93 [==============================] - 928s 868ms/step - train_loss: 0.0011\n",
            "(1, 224, 224, 3)\n",
            "1/1 [==============================] - 0s 29ms/step\n",
            "(1, 224, 224, 3)\n",
            "1/1 [==============================] - 0s 25ms/step\n",
            "1000\n",
            "Validation loss: 0.0368\n",
            "\n",
            "Start of epoch 9\n",
            "3000\n",
            "93/93 [==============================] - 1027s 866ms/step - train_loss: 0.0011\n",
            "94/93 [==============================] - 1028s 864ms/step - train_loss: 0.0011\n",
            "(1, 224, 224, 3)\n",
            "1/1 [==============================] - 0s 43ms/step\n",
            "(1, 224, 224, 3)\n",
            "1/1 [==============================] - 0s 43ms/step\n",
            "1000\n",
            "Validation loss: 0.0368\n",
            "\n",
            "Start of epoch 10\n",
            "3000\n",
            "93/93 [==============================] - 1128s 880ms/step - train_loss: 0.0011\n",
            "94/93 [==============================] - 1129s 879ms/step - train_loss: 0.0011\n",
            "(1, 224, 224, 3)\n",
            "1/1 [==============================] - 0s 32ms/step\n",
            "(1, 224, 224, 3)\n",
            "1/1 [==============================] - 0s 26ms/step\n"
          ]
        },
        {
          "name": "stderr",
          "output_type": "stream",
          "text": [
            "WARNING:tensorflow:Compiled the loaded model, but the compiled metrics have yet to be built. `model.compile_metrics` will be empty until you train or evaluate the model.\n"
          ]
        },
        {
          "name": "stdout",
          "output_type": "stream",
          "text": [
            "1000\n",
            "Validation loss: 0.0367\n",
            "\n",
            "Start of epoch 11\n",
            "3000\n",
            "93/93 [==============================] - 1229s 875ms/step - train_loss: 0.0011\n",
            "94/93 [==============================] - 1230s 873ms/step - train_loss: 0.0011\n",
            "(1, 224, 224, 3)\n",
            "1/1 [==============================] - 0s 27ms/step\n",
            "(1, 224, 224, 3)\n",
            "1/1 [==============================] - 0s 32ms/step\n",
            "1000\n",
            "Validation loss: 0.0367\n",
            "\n",
            "Start of epoch 12\n",
            "3000\n",
            "93/93 [==============================] - 1330s 874ms/step - train_loss: 0.0011\n",
            "94/93 [==============================] - 1331s 872ms/step - train_loss: 0.0011\n",
            "(1, 224, 224, 3)\n",
            "1/1 [==============================] - 0s 27ms/step\n",
            "(1, 224, 224, 3)\n",
            "1/1 [==============================] - 0s 25ms/step\n",
            "1000\n",
            "Validation loss: 0.0367\n",
            "\n",
            "Start of epoch 13\n",
            "3000\n",
            "93/93 [==============================] - 1429s 869ms/step - train_loss: 0.0011\n",
            "94/93 [==============================] - 1430s 867ms/step - train_loss: 0.0011\n",
            "(1, 224, 224, 3)\n",
            "1/1 [==============================] - 0s 28ms/step\n",
            "(1, 224, 224, 3)\n",
            "1/1 [==============================] - 0s 30ms/step\n",
            "1000\n",
            "Validation loss: 0.0367\n",
            "\n",
            "Start of epoch 14\n",
            "3000\n",
            "93/93 [==============================] - 1530s 869ms/step - train_loss: 0.0011\n",
            "94/93 [==============================] - 1531s 870ms/step - train_loss: 0.0011\n",
            "(1, 224, 224, 3)\n",
            "1/1 [==============================] - 0s 41ms/step\n",
            "(1, 224, 224, 3)\n",
            "1/1 [==============================] - 0s 27ms/step\n",
            "1000\n",
            "Validation loss: 0.0367\n",
            "\n",
            "Start of epoch 15\n",
            "3000\n",
            "93/93 [==============================] - 1629s 872ms/step - train_loss: 0.0011\n",
            "94/93 [==============================] - 1630s 870ms/step - train_loss: 0.0011\n",
            "(1, 224, 224, 3)\n",
            "1/1 [==============================] - 0s 26ms/step\n",
            "(1, 224, 224, 3)\n",
            "1/1 [==============================] - 0s 25ms/step\n"
          ]
        },
        {
          "name": "stderr",
          "output_type": "stream",
          "text": [
            "WARNING:tensorflow:Compiled the loaded model, but the compiled metrics have yet to be built. `model.compile_metrics` will be empty until you train or evaluate the model.\n"
          ]
        },
        {
          "name": "stdout",
          "output_type": "stream",
          "text": [
            "1000\n",
            "Validation loss: 0.0367\n",
            "\n",
            "Start of epoch 16\n",
            "3000\n",
            "93/93 [==============================] - 1730s 867ms/step - train_loss: 0.0011\n",
            "94/93 [==============================] - 1731s 867ms/step - train_loss: 0.0011\n",
            "(1, 224, 224, 3)\n",
            "1/1 [==============================] - 0s 45ms/step\n",
            "(1, 224, 224, 3)\n",
            "1/1 [==============================] - 0s 45ms/step\n",
            "1000\n",
            "Validation loss: 0.0367\n",
            "\n",
            "Start of epoch 17\n",
            "3000\n",
            "93/93 [==============================] - 1830s 875ms/step - train_loss: 0.0011\n",
            "94/93 [==============================] - 1831s 873ms/step - train_loss: 0.0011\n",
            "(1, 224, 224, 3)\n",
            "1/1 [==============================] - 0s 26ms/step\n",
            "(1, 224, 224, 3)\n",
            "1/1 [==============================] - 0s 24ms/step\n",
            "1000\n",
            "Validation loss: 0.0367\n",
            "\n",
            "Start of epoch 18\n",
            "3000\n",
            "93/93 [==============================] - 1930s 870ms/step - train_loss: 0.0011\n",
            "94/93 [==============================] - 1931s 868ms/step - train_loss: 0.0011\n",
            "(1, 224, 224, 3)\n",
            "1/1 [==============================] - 0s 27ms/step\n",
            "(1, 224, 224, 3)\n",
            "1/1 [==============================] - 0s 25ms/step\n",
            "1000\n",
            "Validation loss: 0.0367\n",
            "\n",
            "Start of epoch 19\n",
            "3000\n",
            "93/93 [==============================] - 2031s 871ms/step - train_loss: 0.0011\n",
            "94/93 [==============================] - 2032s 869ms/step - train_loss: 0.0011\n",
            "(1, 224, 224, 3)\n",
            "1/1 [==============================] - 0s 26ms/step\n",
            "(1, 224, 224, 3)\n",
            "1/1 [==============================] - 0s 26ms/step\n",
            "1000\n",
            "Validation loss: 0.0367\n",
            "\n",
            "Start of epoch 20\n",
            "3000\n",
            "93/93 [==============================] - 2130s 861ms/step - train_loss: 0.0011\n",
            "94/93 [==============================] - 2130s 859ms/step - train_loss: 0.0011\n",
            "(1, 224, 224, 3)\n",
            "1/1 [==============================] - 0s 27ms/step\n",
            "(1, 224, 224, 3)\n",
            "1/1 [==============================] - 0s 26ms/step\n"
          ]
        },
        {
          "name": "stderr",
          "output_type": "stream",
          "text": [
            "WARNING:tensorflow:Compiled the loaded model, but the compiled metrics have yet to be built. `model.compile_metrics` will be empty until you train or evaluate the model.\n"
          ]
        },
        {
          "name": "stdout",
          "output_type": "stream",
          "text": [
            "1000\n",
            "Validation loss: 0.0367\n",
            "\n",
            "Start of epoch 21\n",
            "3000\n",
            "93/93 [==============================] - 2230s 858ms/step - train_loss: 0.0011\n",
            "94/93 [==============================] - 2231s 858ms/step - train_loss: 0.0011\n",
            "(1, 224, 224, 3)\n",
            "1/1 [==============================] - 0s 43ms/step\n",
            "(1, 224, 224, 3)\n",
            "1/1 [==============================] - 0s 46ms/step\n",
            "1000\n",
            "Validation loss: 0.0367\n",
            "\n",
            "Start of epoch 22\n",
            "3000\n",
            "93/93 [==============================] - 2329s 867ms/step - train_loss: 0.0011\n",
            "94/93 [==============================] - 2330s 865ms/step - train_loss: 0.0011\n",
            "(1, 224, 224, 3)\n",
            "1/1 [==============================] - 0s 26ms/step\n",
            "(1, 224, 224, 3)\n",
            "1/1 [==============================] - 0s 25ms/step\n",
            "1000\n",
            "Validation loss: 0.0367\n",
            "\n",
            "Start of epoch 23\n",
            "3000\n",
            "93/93 [==============================] - 2428s 866ms/step - train_loss: 0.0011\n",
            "94/93 [==============================] - 2429s 864ms/step - train_loss: 0.0011\n",
            "(1, 224, 224, 3)\n",
            "1/1 [==============================] - 0s 30ms/step\n",
            "(1, 224, 224, 3)\n",
            "1/1 [==============================] - 0s 25ms/step\n",
            "1000\n",
            "Validation loss: 0.0367\n",
            "\n",
            "Start of epoch 24\n",
            "3000\n",
            "93/93 [==============================] - 2528s 872ms/step - train_loss: 0.0011\n",
            "94/93 [==============================] - 2529s 870ms/step - train_loss: 0.0011\n",
            "(1, 224, 224, 3)\n",
            "1/1 [==============================] - 0s 29ms/step\n",
            "(1, 224, 224, 3)\n",
            "1/1 [==============================] - 0s 26ms/step\n",
            "1000\n",
            "Validation loss: 0.0367\n",
            "\n",
            "Start of epoch 25\n",
            "3000\n",
            "93/93 [==============================] - 2627s 867ms/step - train_loss: 0.0011\n",
            "94/93 [==============================] - 2628s 865ms/step - train_loss: 0.0011\n",
            "(1, 224, 224, 3)\n",
            "1/1 [==============================] - 0s 26ms/step\n",
            "(1, 224, 224, 3)\n",
            "1/1 [==============================] - 0s 24ms/step\n"
          ]
        },
        {
          "name": "stderr",
          "output_type": "stream",
          "text": [
            "WARNING:tensorflow:Compiled the loaded model, but the compiled metrics have yet to be built. `model.compile_metrics` will be empty until you train or evaluate the model.\n"
          ]
        },
        {
          "name": "stdout",
          "output_type": "stream",
          "text": [
            "1000\n",
            "Validation loss: 0.0367\n",
            "\n",
            "Start of epoch 26\n",
            "3000\n",
            "93/93 [==============================] - 2729s 870ms/step - train_loss: 0.0011\n",
            "94/93 [==============================] - 2729s 870ms/step - train_loss: 0.0011\n",
            "(1, 224, 224, 3)\n",
            "1/1 [==============================] - 0s 28ms/step\n",
            "(1, 224, 224, 3)\n",
            "1/1 [==============================] - 0s 28ms/step\n",
            "1000\n",
            "Validation loss: 0.0367\n",
            "\n",
            "Start of epoch 27\n",
            "3000\n",
            "93/93 [==============================] - 2829s 874ms/step - train_loss: 0.0011\n",
            "94/93 [==============================] - 2829s 872ms/step - train_loss: 0.0011\n",
            "(1, 224, 224, 3)\n",
            "1/1 [==============================] - 0s 27ms/step\n",
            "(1, 224, 224, 3)\n",
            "1/1 [==============================] - 0s 27ms/step\n",
            "1000\n",
            "Validation loss: 0.0367\n",
            "\n",
            "Start of epoch 28\n",
            "3000\n",
            "93/93 [==============================] - 2927s 863ms/step - train_loss: 0.0011\n",
            "94/93 [==============================] - 2928s 863ms/step - train_loss: 0.0011\n",
            "(1, 224, 224, 3)\n",
            "1/1 [==============================] - 0s 42ms/step\n",
            "(1, 224, 224, 3)\n",
            "1/1 [==============================] - 0s 46ms/step\n",
            "1000\n",
            "Validation loss: 0.0367\n",
            "\n",
            "Start of epoch 29\n",
            "3000\n",
            "93/93 [==============================] - 3027s 867ms/step - train_loss: 0.0011\n",
            "94/93 [==============================] - 3028s 865ms/step - train_loss: 0.0011\n",
            "(1, 224, 224, 3)\n",
            "1/1 [==============================] - 0s 26ms/step\n",
            "(1, 224, 224, 3)\n",
            "1/1 [==============================] - 0s 27ms/step\n",
            "1000\n",
            "Validation loss: 0.0367\n",
            "\n",
            "Start of epoch 30\n",
            "3000\n",
            "93/93 [==============================] - 3127s 876ms/step - train_loss: 0.0011\n",
            "94/93 [==============================] - 3128s 874ms/step - train_loss: 0.0011\n",
            "(1, 224, 224, 3)\n",
            "1/1 [==============================] - 0s 28ms/step\n",
            "(1, 224, 224, 3)\n",
            "1/1 [==============================] - 0s 27ms/step\n"
          ]
        },
        {
          "name": "stderr",
          "output_type": "stream",
          "text": [
            "WARNING:tensorflow:Compiled the loaded model, but the compiled metrics have yet to be built. `model.compile_metrics` will be empty until you train or evaluate the model.\n"
          ]
        },
        {
          "name": "stdout",
          "output_type": "stream",
          "text": [
            "1000\n",
            "Validation loss: 0.0367\n",
            "\n",
            "Start of epoch 31\n",
            "3000\n",
            "93/93 [==============================] - 3230s 881ms/step - train_loss: 0.0011\n",
            "94/93 [==============================] - 3231s 879ms/step - train_loss: 0.0011\n",
            "(1, 224, 224, 3)\n",
            "1/1 [==============================] - 0s 29ms/step\n",
            "(1, 224, 224, 3)\n",
            "1/1 [==============================] - 0s 28ms/step\n",
            "1000\n",
            "Validation loss: 0.0367\n",
            "\n",
            "Start of epoch 32\n",
            "3000\n",
            "93/93 [==============================] - 3330s 871ms/step - train_loss: 0.0011\n",
            "94/93 [==============================] - 3330s 869ms/step - train_loss: 0.0011\n",
            "(1, 224, 224, 3)\n",
            "1/1 [==============================] - 0s 26ms/step\n",
            "(1, 224, 224, 3)\n",
            "1/1 [==============================] - 0s 25ms/step\n",
            "1000\n",
            "Validation loss: 0.0368\n",
            "\n",
            "Start of epoch 33\n",
            "3000\n",
            "93/93 [==============================] - 3431s 872ms/step - train_loss: 0.0011\n",
            "94/93 [==============================] - 3431s 870ms/step - train_loss: 0.0011\n",
            "(1, 224, 224, 3)\n",
            "1/1 [==============================] - 0s 27ms/step\n",
            "(1, 224, 224, 3)\n",
            "1/1 [==============================] - 0s 26ms/step\n",
            "1000\n",
            "Validation loss: 0.0368\n",
            "\n",
            "Start of epoch 34\n",
            "3000\n",
            "93/93 [==============================] - 3530s 871ms/step - train_loss: 0.0011\n",
            "94/93 [==============================] - 3531s 869ms/step - train_loss: 0.0011\n",
            "(1, 224, 224, 3)\n",
            "1/1 [==============================] - 0s 27ms/step\n",
            "(1, 224, 224, 3)\n",
            "1/1 [==============================] - 0s 26ms/step\n",
            "1000\n",
            "Validation loss: 0.0368\n",
            "\n",
            "Start of epoch 35\n",
            "3000\n",
            "93/93 [==============================] - 3629s 868ms/step - train_loss: 0.0011\n",
            "94/93 [==============================] - 3630s 869ms/step - train_loss: 0.0011\n",
            "(1, 224, 224, 3)\n",
            "1/1 [==============================] - 0s 51ms/step\n",
            "(1, 224, 224, 3)\n",
            "1/1 [==============================] - 0s 55ms/step\n"
          ]
        },
        {
          "name": "stderr",
          "output_type": "stream",
          "text": [
            "WARNING:tensorflow:Compiled the loaded model, but the compiled metrics have yet to be built. `model.compile_metrics` will be empty until you train or evaluate the model.\n"
          ]
        },
        {
          "name": "stdout",
          "output_type": "stream",
          "text": [
            "1000\n",
            "Validation loss: 0.0368\n",
            "\n",
            "Start of epoch 36\n",
            "3000\n",
            "93/93 [==============================] - 3731s 875ms/step - train_loss: 0.0011\n",
            "94/93 [==============================] - 3732s 873ms/step - train_loss: 0.0011\n",
            "(1, 224, 224, 3)\n",
            "1/1 [==============================] - 0s 27ms/step\n",
            "(1, 224, 224, 3)\n",
            "1/1 [==============================] - 0s 32ms/step\n",
            "1000\n",
            "Validation loss: 0.0368\n",
            "\n",
            "Start of epoch 37\n",
            "3000\n",
            "93/93 [==============================] - 3830s 869ms/step - train_loss: 0.0011\n",
            "94/93 [==============================] - 3831s 867ms/step - train_loss: 0.0011\n",
            "(1, 224, 224, 3)\n",
            "1/1 [==============================] - 0s 42ms/step\n",
            "(1, 224, 224, 3)\n",
            "1/1 [==============================] - 0s 44ms/step\n",
            "1000\n",
            "Validation loss: 0.0368\n",
            "\n",
            "Start of epoch 38\n",
            "3000\n",
            "93/93 [==============================] - 3930s 870ms/step - train_loss: 0.0011\n",
            "94/93 [==============================] - 3931s 868ms/step - train_loss: 0.0011\n",
            "(1, 224, 224, 3)\n",
            "1/1 [==============================] - 0s 27ms/step\n",
            "(1, 224, 224, 3)\n",
            "1/1 [==============================] - 0s 29ms/step\n",
            "1000\n",
            "Validation loss: 0.0368\n",
            "\n",
            "Start of epoch 39\n",
            "3000\n",
            "93/93 [==============================] - 4029s 867ms/step - train_loss: 0.0011\n",
            "94/93 [==============================] - 4030s 865ms/step - train_loss: 0.0011\n",
            "(1, 224, 224, 3)\n",
            "1/1 [==============================] - 0s 26ms/step\n",
            "(1, 224, 224, 3)\n",
            "1/1 [==============================] - 0s 26ms/step\n",
            "1000\n",
            "Validation loss: 0.0368\n",
            "\n",
            "Start of epoch 40\n",
            "3000\n",
            "93/93 [==============================] - 4128s 859ms/step - train_loss: 0.0011\n",
            "94/93 [==============================] - 4129s 859ms/step - train_loss: 0.0011\n",
            "(1, 224, 224, 3)\n",
            "1/1 [==============================] - 0s 36ms/step\n",
            "(1, 224, 224, 3)\n",
            "1/1 [==============================] - 0s 40ms/step\n"
          ]
        },
        {
          "name": "stderr",
          "output_type": "stream",
          "text": [
            "WARNING:tensorflow:Compiled the loaded model, but the compiled metrics have yet to be built. `model.compile_metrics` will be empty until you train or evaluate the model.\n"
          ]
        },
        {
          "name": "stdout",
          "output_type": "stream",
          "text": [
            "1000\n",
            "Validation loss: 0.0368\n",
            "\n",
            "Start of epoch 41\n",
            "3000\n",
            "93/93 [==============================] - 4229s 868ms/step - train_loss: 0.0011\n",
            "94/93 [==============================] - 4229s 866ms/step - train_loss: 0.0011\n",
            "(1, 224, 224, 3)\n",
            "1/1 [==============================] - 0s 27ms/step\n",
            "(1, 224, 224, 3)\n",
            "1/1 [==============================] - 0s 25ms/step\n",
            "1000\n",
            "Validation loss: 0.0368\n",
            "\n",
            "Start of epoch 42\n",
            "3000\n",
            "93/93 [==============================] - 4328s 869ms/step - train_loss: 0.0011\n",
            "94/93 [==============================] - 4328s 867ms/step - train_loss: 0.0011\n",
            "(1, 224, 224, 3)\n",
            "1/1 [==============================] - 0s 28ms/step\n",
            "(1, 224, 224, 3)\n",
            "1/1 [==============================] - 0s 28ms/step\n",
            "1000\n",
            "Validation loss: 0.0368\n",
            "\n",
            "Start of epoch 43\n",
            "3000\n",
            "93/93 [==============================] - 4428s 870ms/step - train_loss: 0.0011\n",
            "94/93 [==============================] - 4429s 868ms/step - train_loss: 0.0011\n",
            "(1, 224, 224, 3)\n",
            "1/1 [==============================] - 0s 26ms/step\n",
            "(1, 224, 224, 3)\n",
            "1/1 [==============================] - 0s 26ms/step\n",
            "1000\n",
            "Validation loss: 0.0368\n",
            "\n",
            "Start of epoch 44\n",
            "3000\n",
            "93/93 [==============================] - 4527s 859ms/step - train_loss: 0.0011\n",
            "94/93 [==============================] - 4527s 857ms/step - train_loss: 0.0011\n",
            "(1, 224, 224, 3)\n",
            "1/1 [==============================] - 0s 26ms/step\n",
            "(1, 224, 224, 3)\n",
            "1/1 [==============================] - 0s 24ms/step\n",
            "1000\n",
            "Validation loss: 0.0368\n",
            "\n",
            "Start of epoch 45\n",
            "3000\n",
            "93/93 [==============================] - 4625s 856ms/step - train_loss: 0.0011\n",
            "94/93 [==============================] - 4626s 854ms/step - train_loss: 0.0011\n",
            "(1, 224, 224, 3)\n",
            "1/1 [==============================] - 0s 28ms/step\n",
            "(1, 224, 224, 3)\n",
            "1/1 [==============================] - 0s 28ms/step\n"
          ]
        },
        {
          "name": "stderr",
          "output_type": "stream",
          "text": [
            "WARNING:tensorflow:Compiled the loaded model, but the compiled metrics have yet to be built. `model.compile_metrics` will be empty until you train or evaluate the model.\n"
          ]
        },
        {
          "name": "stdout",
          "output_type": "stream",
          "text": [
            "1000\n",
            "Validation loss: 0.0368\n",
            "\n",
            "Start of epoch 46\n",
            "3000\n",
            "93/93 [==============================] - 4724s 857ms/step - train_loss: 0.0011\n",
            "94/93 [==============================] - 4725s 856ms/step - train_loss: 0.0011\n",
            "(1, 224, 224, 3)\n",
            "1/1 [==============================] - 0s 27ms/step\n",
            "(1, 224, 224, 3)\n",
            "1/1 [==============================] - 0s 25ms/step\n",
            "1000\n",
            "Validation loss: 0.0368\n",
            "\n",
            "Start of epoch 47\n",
            "3000\n",
            "93/93 [==============================] - 4822s 853ms/step - train_loss: 0.0011\n",
            "94/93 [==============================] - 4822s 851ms/step - train_loss: 0.0011\n",
            "(1, 224, 224, 3)\n",
            "1/1 [==============================] - 0s 28ms/step\n",
            "(1, 224, 224, 3)\n",
            "1/1 [==============================] - 0s 27ms/step\n",
            "1000\n",
            "Validation loss: 0.0368\n",
            "\n",
            "Start of epoch 48\n",
            "3000\n",
            "93/93 [==============================] - 4920s 856ms/step - train_loss: 0.0011\n",
            "94/93 [==============================] - 4921s 854ms/step - train_loss: 0.0011\n",
            "(1, 224, 224, 3)\n",
            "1/1 [==============================] - 0s 27ms/step\n",
            "(1, 224, 224, 3)\n",
            "1/1 [==============================] - 0s 27ms/step\n",
            "1000\n",
            "Validation loss: 0.0368\n",
            "\n",
            "Start of epoch 49\n",
            "3000\n",
            "93/93 [==============================] - 5018s 858ms/step - train_loss: 0.0011\n",
            "94/93 [==============================] - 5018s 856ms/step - train_loss: 0.0011\n",
            "(1, 224, 224, 3)\n",
            "1/1 [==============================] - 0s 27ms/step\n",
            "(1, 224, 224, 3)\n",
            "1/1 [==============================] - 0s 24ms/step\n",
            "1000\n",
            "Validation loss: 0.0368\n"
          ]
        }
      ],
      "source": [
        "# Initialize some variables for logging \n",
        "logs = {} \n",
        "epochs = 50 # Number of epochs you want to train for \n",
        "batch_size = 32 # Batch size for your data \n",
        "verbose = 1 # Display frequency (0: silent, 1: update after each batch, 2: update after each epoch)\n",
        "# Start the custom loop \n",
        "# callbacks.on_train_begin(logs=logs) # Call this at the beginning of training \n",
        "progbar = Progbar(target=int(int(len(os.listdir(\"/content/comp_data/images\")) * 0.6) / batch_size), verbose=verbose)\n",
        "early_stopping = EarlyStopping(monitor=\"val_loss\", patience=3)\n",
        "valid_dict = {}\n",
        "# Start the custom loop \n",
        "for epoch in range(epochs):\n",
        "  print(\"\\nStart of epoch %d\" % (epoch,))\n",
        "  \n",
        "\n",
        "  for step, (x_batch_train,y_batch_train) in enumerate(FacialLandmarkGenerator(\"/content/comp_data/images\", \"train\", img_width = WIDTH, img_height = HEIGHT)): \n",
        "    \n",
        "    # Perform one step of gradient descent on a batch of training data \n",
        "    train_dict = train_step(x_batch_train,y_batch_train)\t\n",
        "    \n",
        "    # Update the progbar with the current step and metrics \n",
        "    progbar.update(step + 1, values=[(\"train_loss\", train_dict[\"train_loss\"])])\n",
        "    \n",
        "    # if step % 30 == 0:\t# Print some information every 100 steps \n",
        "    #   print(\"Training loss (for one batch) at step %d: %.4f\" % (step,float(train_dict[\"train_loss\"])))\n",
        "    #   print(\"Training MSE (for one batch) at step %d: %.4f\" % (step,float(train_dict[\"train_loss\"])))\n",
        "  test_model(epoch)\n",
        "\n",
        "  if epoch %5 ==0:\n",
        "    save_mode(model, offset = 0)\n",
        "    save_img(epoch)\n",
        "\n",
        "\n",
        "  valid_dict[\"val_loss\"] = 0\n",
        "  for x_batch_val,y_batch_val in FacialLandmarkGenerator(\"/content/comp_data/images\", \"val\", img_width = WIDTH, img_height = HEIGHT):\n",
        "    valid_dict[\"val_loss\"] += val_step(x_batch_val,y_batch_val)[\"val_loss\"]\n",
        "    \n",
        "  print(\"Validation loss: %.4f\" % float(valid_dict[\"val_loss\"]))\n",
        "    \n",
        "    # Pass the validation metric to the early stopping callback\n",
        "  # early_stopping.on_epoch_end(epoch, {'val_loss': valid_dict[\"val_loss\"], 'best': valid_dict[\"val_loss\"]})\n",
        "    \n",
        "  # if early_stopping.stop_training:\t# Check if we should stop training \n",
        "  #   break\t# Break out of the epoch loop \n",
        "\n",
        "  train_loss_tracker.reset_states()\t# Reset the state of the tracker after each epoch \n",
        "  val_loss_tracker.reset_states()\t# Reset the state of the tracker after each epoch \n",
        "\n"
      ]
    },
    {
      "cell_type": "code",
      "execution_count": null,
      "metadata": {
        "colab": {
          "background_save": true
        },
        "id": "EnduOcdF-0JY",
        "outputId": "e7a91800-5bf8-4bf9-f195-3ad54074b7be"
      },
      "outputs": [
        {
          "data": {
            "text/plain": [
              "True"
            ]
          },
          "execution_count": 89,
          "metadata": {},
          "output_type": "execute_result"
        }
      ],
      "source": [
        "\"section2_tst0_1.png\" == \"section2_tst0_1.png\""
      ]
    },
    {
      "cell_type": "code",
      "execution_count": null,
      "metadata": {
        "colab": {
          "background_save": true
        },
        "id": "dowB8_JuDr4Y"
      },
      "outputs": [],
      "source": [
        "save_img(epoch)"
      ]
    }
  ],
  "metadata": {
    "accelerator": "GPU",
    "colab": {
      "provenance": [],
      "toc_visible": true,
      "include_colab_link": true
    },
    "gpuClass": "standard",
    "kernelspec": {
      "display_name": "Python 3",
      "name": "python3"
    },
    "language_info": {
      "name": "python"
    },
    "widgets": {
      "application/vnd.jupyter.widget-state+json": {
        "14aa2f2bf2ed45daa41b6c2a2fcb64f6": {
          "model_module": "@jupyter-widgets/controls",
          "model_module_version": "1.5.0",
          "model_name": "ButtonModel",
          "state": {
            "_dom_classes": [],
            "_model_module": "@jupyter-widgets/controls",
            "_model_module_version": "1.5.0",
            "_model_name": "ButtonModel",
            "_view_count": null,
            "_view_module": "@jupyter-widgets/controls",
            "_view_module_version": "1.5.0",
            "_view_name": "ButtonView",
            "button_style": "",
            "description": "top",
            "disabled": false,
            "icon": "",
            "layout": "IPY_MODEL_f4282d4e3a1646599e213fae24866832",
            "style": "IPY_MODEL_8236b57c8be9479b947d3288e53fdbbe",
            "tooltip": ""
          }
        },
        "26149350c6af4b8baf29fed0fd528ae4": {
          "model_module": "@jupyter-widgets/controls",
          "model_module_version": "1.5.0",
          "model_name": "ButtonModel",
          "state": {
            "_dom_classes": [],
            "_model_module": "@jupyter-widgets/controls",
            "_model_module_version": "1.5.0",
            "_model_name": "ButtonModel",
            "_view_count": null,
            "_view_module": "@jupyter-widgets/controls",
            "_view_module_version": "1.5.0",
            "_view_name": "ButtonView",
            "button_style": "",
            "description": "Recompute",
            "disabled": false,
            "icon": "",
            "layout": "IPY_MODEL_f74a5420ca454695a17094873fb9ee38",
            "style": "IPY_MODEL_6e32f7dd544941a9858447d612cd674b",
            "tooltip": ""
          }
        },
        "31e26e0d9f4e408896dea302090f3d31": {
          "model_module": "@jupyter-widgets/controls",
          "model_module_version": "1.5.0",
          "model_name": "ButtonStyleModel",
          "state": {
            "_model_module": "@jupyter-widgets/controls",
            "_model_module_version": "1.5.0",
            "_model_name": "ButtonStyleModel",
            "_view_count": null,
            "_view_module": "@jupyter-widgets/base",
            "_view_module_version": "1.2.0",
            "_view_name": "StyleView",
            "button_color": null,
            "font_weight": ""
          }
        },
        "3c54a7ed035f4c0f8765a2ffcc2a48a8": {
          "model_module": "@jupyter-widgets/controls",
          "model_module_version": "1.5.0",
          "model_name": "ButtonModel",
          "state": {
            "_dom_classes": [],
            "_model_module": "@jupyter-widgets/controls",
            "_model_module_version": "1.5.0",
            "_model_name": "ButtonModel",
            "_view_count": null,
            "_view_module": "@jupyter-widgets/controls",
            "_view_module_version": "1.5.0",
            "_view_name": "ButtonView",
            "button_style": "",
            "description": "bottom",
            "disabled": false,
            "icon": "",
            "layout": "IPY_MODEL_acb6779ce7e44d28bdee291e77e486d1",
            "style": "IPY_MODEL_31e26e0d9f4e408896dea302090f3d31",
            "tooltip": ""
          }
        },
        "47aac1ef66484eeba1f0615321deec9c": {
          "model_module": "@jupyter-widgets/controls",
          "model_module_version": "1.5.0",
          "model_name": "ButtonModel",
          "state": {
            "_dom_classes": [],
            "_model_module": "@jupyter-widgets/controls",
            "_model_module_version": "1.5.0",
            "_model_name": "ButtonModel",
            "_view_count": null,
            "_view_module": "@jupyter-widgets/controls",
            "_view_module_version": "1.5.0",
            "_view_name": "ButtonView",
            "button_style": "",
            "description": "left",
            "disabled": false,
            "icon": "",
            "layout": "IPY_MODEL_dc1c7b0a8bb748fd8b08e1bebe892190",
            "style": "IPY_MODEL_707137e4c86f4147aefc623e66c7ffc4",
            "tooltip": ""
          }
        },
        "595c72d1989440fb8ccd2a4bc34cb1e7": {
          "model_module": "@jupyter-widgets/base",
          "model_module_version": "1.2.0",
          "model_name": "LayoutModel",
          "state": {
            "_model_module": "@jupyter-widgets/base",
            "_model_module_version": "1.2.0",
            "_model_name": "LayoutModel",
            "_view_count": null,
            "_view_module": "@jupyter-widgets/base",
            "_view_module_version": "1.2.0",
            "_view_name": "LayoutView",
            "align_content": null,
            "align_items": null,
            "align_self": null,
            "border": null,
            "bottom": null,
            "display": null,
            "flex": null,
            "flex_flow": null,
            "grid_area": null,
            "grid_auto_columns": null,
            "grid_auto_flow": null,
            "grid_auto_rows": null,
            "grid_column": null,
            "grid_gap": null,
            "grid_row": null,
            "grid_template_areas": null,
            "grid_template_columns": null,
            "grid_template_rows": null,
            "height": null,
            "justify_content": null,
            "justify_items": null,
            "left": null,
            "margin": null,
            "max_height": null,
            "max_width": null,
            "min_height": null,
            "min_width": null,
            "object_fit": null,
            "object_position": null,
            "order": null,
            "overflow": null,
            "overflow_x": null,
            "overflow_y": null,
            "padding": null,
            "right": null,
            "top": null,
            "visibility": null,
            "width": null
          }
        },
        "6e32f7dd544941a9858447d612cd674b": {
          "model_module": "@jupyter-widgets/controls",
          "model_module_version": "1.5.0",
          "model_name": "ButtonStyleModel",
          "state": {
            "_model_module": "@jupyter-widgets/controls",
            "_model_module_version": "1.5.0",
            "_model_name": "ButtonStyleModel",
            "_view_count": null,
            "_view_module": "@jupyter-widgets/base",
            "_view_module_version": "1.2.0",
            "_view_name": "StyleView",
            "button_color": null,
            "font_weight": ""
          }
        },
        "707137e4c86f4147aefc623e66c7ffc4": {
          "model_module": "@jupyter-widgets/controls",
          "model_module_version": "1.5.0",
          "model_name": "ButtonStyleModel",
          "state": {
            "_model_module": "@jupyter-widgets/controls",
            "_model_module_version": "1.5.0",
            "_model_name": "ButtonStyleModel",
            "_view_count": null,
            "_view_module": "@jupyter-widgets/base",
            "_view_module_version": "1.2.0",
            "_view_name": "StyleView",
            "button_color": null,
            "font_weight": ""
          }
        },
        "8236b57c8be9479b947d3288e53fdbbe": {
          "model_module": "@jupyter-widgets/controls",
          "model_module_version": "1.5.0",
          "model_name": "ButtonStyleModel",
          "state": {
            "_model_module": "@jupyter-widgets/controls",
            "_model_module_version": "1.5.0",
            "_model_name": "ButtonStyleModel",
            "_view_count": null,
            "_view_module": "@jupyter-widgets/base",
            "_view_module_version": "1.2.0",
            "_view_name": "StyleView",
            "button_color": null,
            "font_weight": ""
          }
        },
        "a4d8839afdd84a449c5c5489c78e5d34": {
          "model_module": "@jupyter-widgets/controls",
          "model_module_version": "1.5.0",
          "model_name": "ButtonStyleModel",
          "state": {
            "_model_module": "@jupyter-widgets/controls",
            "_model_module_version": "1.5.0",
            "_model_name": "ButtonStyleModel",
            "_view_count": null,
            "_view_module": "@jupyter-widgets/base",
            "_view_module_version": "1.2.0",
            "_view_name": "StyleView",
            "button_color": null,
            "font_weight": ""
          }
        },
        "acb6779ce7e44d28bdee291e77e486d1": {
          "model_module": "@jupyter-widgets/base",
          "model_module_version": "1.2.0",
          "model_name": "LayoutModel",
          "state": {
            "_model_module": "@jupyter-widgets/base",
            "_model_module_version": "1.2.0",
            "_model_name": "LayoutModel",
            "_view_count": null,
            "_view_module": "@jupyter-widgets/base",
            "_view_module_version": "1.2.0",
            "_view_name": "LayoutView",
            "align_content": null,
            "align_items": null,
            "align_self": null,
            "border": null,
            "bottom": null,
            "display": null,
            "flex": null,
            "flex_flow": null,
            "grid_area": null,
            "grid_auto_columns": null,
            "grid_auto_flow": null,
            "grid_auto_rows": null,
            "grid_column": null,
            "grid_gap": null,
            "grid_row": null,
            "grid_template_areas": null,
            "grid_template_columns": null,
            "grid_template_rows": null,
            "height": null,
            "justify_content": null,
            "justify_items": null,
            "left": null,
            "margin": null,
            "max_height": null,
            "max_width": null,
            "min_height": null,
            "min_width": null,
            "object_fit": null,
            "object_position": null,
            "order": null,
            "overflow": null,
            "overflow_x": null,
            "overflow_y": null,
            "padding": null,
            "right": null,
            "top": null,
            "visibility": null,
            "width": null
          }
        },
        "dc1c7b0a8bb748fd8b08e1bebe892190": {
          "model_module": "@jupyter-widgets/base",
          "model_module_version": "1.2.0",
          "model_name": "LayoutModel",
          "state": {
            "_model_module": "@jupyter-widgets/base",
            "_model_module_version": "1.2.0",
            "_model_name": "LayoutModel",
            "_view_count": null,
            "_view_module": "@jupyter-widgets/base",
            "_view_module_version": "1.2.0",
            "_view_name": "LayoutView",
            "align_content": null,
            "align_items": null,
            "align_self": null,
            "border": null,
            "bottom": null,
            "display": null,
            "flex": null,
            "flex_flow": null,
            "grid_area": null,
            "grid_auto_columns": null,
            "grid_auto_flow": null,
            "grid_auto_rows": null,
            "grid_column": null,
            "grid_gap": null,
            "grid_row": null,
            "grid_template_areas": null,
            "grid_template_columns": null,
            "grid_template_rows": null,
            "height": null,
            "justify_content": null,
            "justify_items": null,
            "left": null,
            "margin": null,
            "max_height": null,
            "max_width": null,
            "min_height": null,
            "min_width": null,
            "object_fit": null,
            "object_position": null,
            "order": null,
            "overflow": null,
            "overflow_x": null,
            "overflow_y": null,
            "padding": null,
            "right": null,
            "top": null,
            "visibility": null,
            "width": null
          }
        },
        "f4282d4e3a1646599e213fae24866832": {
          "model_module": "@jupyter-widgets/base",
          "model_module_version": "1.2.0",
          "model_name": "LayoutModel",
          "state": {
            "_model_module": "@jupyter-widgets/base",
            "_model_module_version": "1.2.0",
            "_model_name": "LayoutModel",
            "_view_count": null,
            "_view_module": "@jupyter-widgets/base",
            "_view_module_version": "1.2.0",
            "_view_name": "LayoutView",
            "align_content": null,
            "align_items": null,
            "align_self": null,
            "border": null,
            "bottom": null,
            "display": null,
            "flex": null,
            "flex_flow": null,
            "grid_area": null,
            "grid_auto_columns": null,
            "grid_auto_flow": null,
            "grid_auto_rows": null,
            "grid_column": null,
            "grid_gap": null,
            "grid_row": null,
            "grid_template_areas": null,
            "grid_template_columns": null,
            "grid_template_rows": null,
            "height": null,
            "justify_content": null,
            "justify_items": null,
            "left": null,
            "margin": null,
            "max_height": null,
            "max_width": null,
            "min_height": null,
            "min_width": null,
            "object_fit": null,
            "object_position": null,
            "order": null,
            "overflow": null,
            "overflow_x": null,
            "overflow_y": null,
            "padding": null,
            "right": null,
            "top": null,
            "visibility": null,
            "width": null
          }
        },
        "f4f02b8931ff41d58e9ef5feb6c0933c": {
          "model_module": "@jupyter-widgets/controls",
          "model_module_version": "1.5.0",
          "model_name": "ButtonModel",
          "state": {
            "_dom_classes": [],
            "_model_module": "@jupyter-widgets/controls",
            "_model_module_version": "1.5.0",
            "_model_name": "ButtonModel",
            "_view_count": null,
            "_view_module": "@jupyter-widgets/controls",
            "_view_module_version": "1.5.0",
            "_view_name": "ButtonView",
            "button_style": "",
            "description": "right",
            "disabled": false,
            "icon": "",
            "layout": "IPY_MODEL_595c72d1989440fb8ccd2a4bc34cb1e7",
            "style": "IPY_MODEL_a4d8839afdd84a449c5c5489c78e5d34",
            "tooltip": ""
          }
        },
        "f74a5420ca454695a17094873fb9ee38": {
          "model_module": "@jupyter-widgets/base",
          "model_module_version": "1.2.0",
          "model_name": "LayoutModel",
          "state": {
            "_model_module": "@jupyter-widgets/base",
            "_model_module_version": "1.2.0",
            "_model_name": "LayoutModel",
            "_view_count": null,
            "_view_module": "@jupyter-widgets/base",
            "_view_module_version": "1.2.0",
            "_view_name": "LayoutView",
            "align_content": null,
            "align_items": null,
            "align_self": null,
            "border": null,
            "bottom": null,
            "display": null,
            "flex": null,
            "flex_flow": null,
            "grid_area": null,
            "grid_auto_columns": null,
            "grid_auto_flow": null,
            "grid_auto_rows": null,
            "grid_column": null,
            "grid_gap": null,
            "grid_row": null,
            "grid_template_areas": null,
            "grid_template_columns": null,
            "grid_template_rows": null,
            "height": null,
            "justify_content": null,
            "justify_items": null,
            "left": null,
            "margin": null,
            "max_height": null,
            "max_width": null,
            "min_height": null,
            "min_width": null,
            "object_fit": null,
            "object_position": null,
            "order": null,
            "overflow": null,
            "overflow_x": null,
            "overflow_y": null,
            "padding": null,
            "right": null,
            "top": null,
            "visibility": null,
            "width": null
          }
        }
      }
    }
  },
  "nbformat": 4,
  "nbformat_minor": 0
}